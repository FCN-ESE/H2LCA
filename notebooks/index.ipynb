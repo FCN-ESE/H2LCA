{
 "cells": [
  {
   "cell_type": "markdown",
   "metadata": {},
   "source": [
    "<img src=\"../notebooks/assets/img/rwth_eerc_rgb.png\" alt=\"JERI\" style=\"display: block;  margin-left: auto;  margin-right: auto;  width: 100%;\"/>"
   ]
  },
  {
   "cell_type": "markdown",
   "metadata": {},
   "source": [
    "<h2 align=\"center\">Willkommen bei den Programmierübungen der Veranstaltung Energiesystemanalyse</h2>"
   ]
  },
  {
   "cell_type": "markdown",
   "metadata": {},
   "source": [
    "<h3 align=\"center\">Lehrstuhl für Energiesystemökonomik</h3>"
   ]
  },
  {
   "cell_type": "markdown",
   "metadata": {},
   "source": [
    "<img src=\"../notebooks/assets/img/FCN-ESE_Team.JPG\" alt=\"FCN-ESE_Team\" style=\"display: block;  margin-left: auto;  margin-right: auto;  width: 50%;\"/>"
   ]
  },
  {
   "cell_type": "markdown",
   "metadata": {},
   "source": [
    "<h4 align=\"center\" style=\"font-weight: normal\">Der Lehrstuhl für Energiesystemökonomik (FCN-ESE) ist Teil der <a href=\"https://www.rwth-aachen.de\">RWTH Aachen</a> und Mitglied des <a href=\"https://www.eonerc.rwth-aachen.de\">E.ON Energy Research Centers</a>. Dort ist er am <a href=\"https://www.fcn.eonerc.rwth-aachen.de\">Institute for Future Energy Consumer Needs and Behavior (FCN)</a> angesiedelt.<h4>"
   ]
  }
 ],
 "metadata": {
  "kernelspec": {
   "display_name": "Python 3",
   "language": "python",
   "name": "python3"
  },
  "language_info": {
   "codemirror_mode": {
    "name": "ipython",
    "version": 3
   },
   "file_extension": ".py",
   "mimetype": "text/x-python",
   "name": "python",
   "nbconvert_exporter": "python",
   "pygments_lexer": "ipython3",
   "version": "3.7.7"
  }
 },
 "nbformat": 4,
 "nbformat_minor": 2
}
