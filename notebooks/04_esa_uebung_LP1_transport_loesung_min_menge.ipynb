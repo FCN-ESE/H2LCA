{
 "cells": [
  {
   "cell_type": "code",
   "execution_count": null,
   "metadata": {},
   "outputs": [],
   "source": [
    "from __future__ import division\n",
    "import pyomo.environ as pyomo\n",
    "import pyomo.opt as opt"
   ]
  },
  {
   "cell_type": "markdown",
   "metadata": {},
   "source": [
    "# Welcome to the TESA programming exercise on basic dispatch LP models"
   ]
  },
  {
   "cell_type": "markdown",
   "metadata": {},
   "source": [
    "## 1. Prepare the input data for the LP model"
   ]
  },
  {
   "cell_type": "code",
   "execution_count": null,
   "metadata": {},
   "outputs": [],
   "source": [
    "# introduce sets of indices\n",
    "I = ['Seattle','San Diego'] # set of indices for supply\n",
    "J = ['Topeka','Chicago','New York'] # set of indices for demand"
   ]
  },
  {
   "cell_type": "code",
   "execution_count": null,
   "metadata": {},
   "outputs": [],
   "source": [
    "# supply amounts\n",
    "supply_i = {'Seattle':350, 'San Diego':600}"
   ]
  },
  {
   "cell_type": "code",
   "execution_count": null,
   "metadata": {},
   "outputs": [],
   "source": [
    "# demand  \n",
    "demand_j = {'Topeka':275, 'Chicago':300, 'New York': 325}"
   ]
  },
  {
   "cell_type": "code",
   "execution_count": null,
   "metadata": {},
   "outputs": [],
   "source": [
    "# shipping costs\n",
    "costs_i_j = {('Seattle','Topeka'):  162, ('Seattle','Chicago'):  153, ('Seattle','New York'):  234, \n",
    "             ('San Diego','Topeka'):126, ('San Diego','Chicago'):162, ('San Diego','New York'):189}"
   ]
  },
  {
   "cell_type": "code",
   "execution_count": null,
   "metadata": {},
   "outputs": [],
   "source": [
    "# min supply \n",
    "min_supply = 100"
   ]
  },
  {
   "cell_type": "markdown",
   "metadata": {},
   "source": [
    "## 2. Build the LP model"
   ]
  },
  {
   "cell_type": "code",
   "execution_count": null,
   "metadata": {},
   "outputs": [],
   "source": [
    "model = pyomo.ConcreteModel()"
   ]
  },
  {
   "cell_type": "markdown",
   "metadata": {},
   "source": [
    "### 2.1 Define Sets"
   ]
  },
  {
   "cell_type": "code",
   "execution_count": null,
   "metadata": {},
   "outputs": [],
   "source": [
    "# define sets of the LP model  \n",
    "model.I = pyomo.Set(initialize=I)\n",
    "model.J = pyomo.Set(initialize=J)"
   ]
  },
  {
   "cell_type": "markdown",
   "metadata": {},
   "source": [
    "### 2.2 Define Variables"
   ]
  },
  {
   "cell_type": "code",
   "execution_count": null,
   "metadata": {},
   "outputs": [],
   "source": [
    "# create decision variables\n",
    "model.x_i_j = pyomo.Var(model.I, model.J, domain=pyomo.NonNegativeIntegers) # electricity output of technology g [TWh]"
   ]
  },
  {
   "cell_type": "markdown",
   "metadata": {},
   "source": [
    "### 2.3 Define Constraints"
   ]
  },
  {
   "cell_type": "code",
   "execution_count": null,
   "metadata": {},
   "outputs": [],
   "source": [
    "# cover demand\n",
    "def define_demand_restriction(model, j):\n",
    "    return sum(model.x_i_j[i,j] for i in model.I) == demand_j[j]\n",
    "model.demand_restriction = pyomo.Constraint(model.J, rule=define_demand_restriction)"
   ]
  },
  {
   "cell_type": "code",
   "execution_count": null,
   "metadata": {},
   "outputs": [],
   "source": [
    "# supply capacity restrictions\n",
    "def define_capacity_restriciton(model, i):\n",
    "    return sum(model.x_i_j[i,j] for j in model.J) <= supply_i[i]\n",
    "model.capacity_restriciton = pyomo.Constraint(model.I, rule=define_capacity_restriciton)"
   ]
  },
  {
   "cell_type": "code",
   "execution_count": null,
   "metadata": {},
   "outputs": [],
   "source": [
    "# minimum supply restrictions \n",
    "def define_minimum_supply_restriction(model, i, j):\n",
    "    return model.x_i_j[i,j] >= min_supply\n",
    "model.minimum_supply_restriction = pyomo.Constraint(model.I, model.J, rule=define_minimum_supply_restriction)"
   ]
  },
  {
   "cell_type": "markdown",
   "metadata": {},
   "source": [
    "### 2.4 Define Objective Function"
   ]
  },
  {
   "cell_type": "code",
   "execution_count": null,
   "metadata": {},
   "outputs": [],
   "source": [
    "# define objective function\n",
    "def define_objective_function(model):\n",
    "    return sum(costs_i_j[i,j] * model.x_i_j[i,j] for i in model.I for j in model.J)\n",
    "model.Obj = pyomo.Objective(rule=define_objective_function, sense=pyomo.minimize)"
   ]
  },
  {
   "cell_type": "markdown",
   "metadata": {},
   "source": [
    "### 2.4 Write LP to File"
   ]
  },
  {
   "cell_type": "code",
   "execution_count": null,
   "metadata": {},
   "outputs": [],
   "source": [
    "model.write('output/transport/04_esa_uebung_LP1_transport_loesung_min_menge.lp', io_options={'symbolic_solver_labels':True})"
   ]
  },
  {
   "cell_type": "markdown",
   "metadata": {},
   "source": [
    "## 3. Solve the LP model"
   ]
  },
  {
   "cell_type": "code",
   "execution_count": null,
   "metadata": {},
   "outputs": [],
   "source": [
    "# call solver\n",
    "optimizer = opt.SolverFactory('glpk')\n",
    "solved_model = optimizer.solve(model, tee=True)"
   ]
  },
  {
   "cell_type": "markdown",
   "metadata": {},
   "source": [
    "## 4. Get the results and statistics of the solved LP model"
   ]
  },
  {
   "cell_type": "markdown",
   "metadata": {},
   "source": [
    "### 4.1 print optimal objective value"
   ]
  },
  {
   "cell_type": "code",
   "execution_count": null,
   "metadata": {},
   "outputs": [],
   "source": [
    "print(\"Optimal value: %i\" % (round(model.Obj.expr(),2)))"
   ]
  },
  {
   "cell_type": "markdown",
   "metadata": {},
   "source": [
    "### 4.2 print optimal dispatch path"
   ]
  },
  {
   "cell_type": "code",
   "execution_count": null,
   "metadata": {},
   "outputs": [],
   "source": [
    "EPS = 1.e-6\n",
    "for i in model.I:\n",
    "    for j in model.J:\n",
    "        if pyomo.value(model.x_i_j[i,j]) > EPS:\n",
    "            print(\"sending quantity %i from %s to %s\" % (pyomo.value(model.x_i_j[i,j]),i,j))"
   ]
  },
  {
   "cell_type": "code",
   "execution_count": null,
   "metadata": {},
   "outputs": [],
   "source": []
  }
 ],
 "metadata": {
  "kernelspec": {
   "display_name": "Python 3 (ipykernel)",
   "language": "python",
   "name": "python3"
  },
  "language_info": {
   "codemirror_mode": {
    "name": "ipython",
    "version": 3
   },
   "file_extension": ".py",
   "mimetype": "text/x-python",
   "name": "python",
   "nbconvert_exporter": "python",
   "pygments_lexer": "ipython3",
   "version": "3.10.2"
  }
 },
 "nbformat": 4,
 "nbformat_minor": 2
}
