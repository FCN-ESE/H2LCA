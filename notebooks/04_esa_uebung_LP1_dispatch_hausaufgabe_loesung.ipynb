{
 "cells": [
  {
   "cell_type": "code",
   "execution_count": null,
   "metadata": {},
   "outputs": [],
   "source": [
    "from __future__ import division\n",
    "import pyomo.environ as pyomo\n",
    "import pyomo.opt as opt\n",
    "import pandas as pd"
   ]
  },
  {
   "cell_type": "markdown",
   "metadata": {},
   "source": [
    "# Welcome to the TESA programming exercise on basic dispatch LP models"
   ]
  },
  {
   "cell_type": "markdown",
   "metadata": {},
   "source": [
    "## 1. Prepare the input data for the LP model"
   ]
  },
  {
   "cell_type": "code",
   "execution_count": null,
   "metadata": {},
   "outputs": [],
   "source": [
    "# introduce sets of indices\n",
    "T = [0,1,2,3,4,5,6,7,8,9,10,11,12,13,14,15,16,17,18,19,20,21,22,23] # set of indices for supply\n",
    "G = ['CCGT','GT','Oil','Hydro','Coal','Lignite','Nuclear','Wind'] # generator technologies"
   ]
  },
  {
   "cell_type": "code",
   "execution_count": null,
   "metadata": {},
   "outputs": [],
   "source": [
    "# constant price for CO2 emissions [€/t CO2]\n",
    "CO2_PRICE = 20"
   ]
  },
  {
   "cell_type": "code",
   "execution_count": null,
   "metadata": {},
   "outputs": [],
   "source": [
    "# convention:   tech_data[(g,'capacity')] = installed capacity of technology g [MW]\n",
    "#               tech_data[(g,'eta_el')] = eta_electric of technology g [1]\n",
    "#               tech_data[(g,'fuel price')]= fuel price of technology g [€/MWh_thermal]\n",
    "#               tech_data[(g,'other variable costs')] = other variable costs of technology g [€/MWh_el]\n",
    "#               tech_data[(g,'emission factor')] = emission factor of technology g [t CO2/MWh_thermal]\n",
    "tech_data_g = {('CCGT','capacity'):     15991,  ('CCGT','eta_el'):      0.54,   ('CCGT','fuel price'):      23.4,   ('CCGT','other variable costs'):    1.5,    ('CCGT','emission factor'):     0.2048, \n",
    "               ('GT','capacity'):       953,    ('GT','eta_el'):        0.28,   ('GT','fuel price'):        23.4,   ('GT','other variable costs'):      1.5,    ('GT','emission factor'):       0.2048, \n",
    "               ('Oil','capacity'):      1893,   ('Oil','eta_el'):       0.28,   ('Oil','fuel price'):       50.1,   ('Oil','other variable costs'):     1.7,    ('Oil','emission factor'):      0.2664, \n",
    "               ('Hydro','capacity'):    5322,   ('Hydro','eta_el'):     1.0,    ('Hydro','fuel price'):     0.0,    ('Hydro','other variable costs'):   1.5,    ('Hydro','emission factor'):    0.0,\n",
    "               ('Coal','capacity'):     29403,  ('Coal','eta_el'):      0.36,   ('Coal','fuel price'):      14.9,   ('Coal','other variable costs'):    2.6,    ('Coal','emission factor'):     0.342, \n",
    "               ('Lignite','capacity'):  20763,  ('Lignite','eta_el'):   0.38,   ('Lignite','fuel price'):   3.8,    ('Lignite','other variable costs'): 3.0,    ('Lignite','emission factor'):  0.3996, \n",
    "               ('Nuclear','capacity'):  20339,  ('Nuclear','eta_el'):   0.33,   ('Nuclear','fuel price'):   1.8,    ('Nuclear','other variable costs'): 0.7,    ('Nuclear','emission factor'):  0.0,\n",
    "               ('Wind','capacity'):     10428,  ('Wind','eta_el'):      1.0,    ('Wind','fuel price'):      0.0,    ('Wind','other variable costs'):    1.5,    ('Wind','emission factor'):     0.0}"
   ]
  },
  {
   "cell_type": "code",
   "execution_count": null,
   "metadata": {},
   "outputs": [],
   "source": [
    "# convention:   availability_g_t[g][t] = available capacity of technology g during hour t [MW]\n",
    "availability_g_t = {'CCGT':     [14629,14629,14629,14629,14629,14629,14629,14629,14629,14629,14629,14629,14629,14629,14629,14629,14629,14629,14629,14629,14629,14629,14629,14629],\n",
    "                    'GT':       [769,769,769,769,769,769,769,769,769,769,769,769,769,769,769,769,769,769,769,769,769,769,769,769,], \n",
    "                    'Oil':      [1717,1717,1717,1717,1717,1717,1717,1717,1717,1717,1717,1717,1717,1717,1717,1717,1717,1717,1717,1717,1717,1717,1717,1717], \n",
    "                    'Hydro':    [3963,3963,3963,3963,3963,3963,3963,3963,3963,3963,3963,3963,3963,3963,3963,3963,3963,3963,3963,3963,3963,3963,3963,3963], \n",
    "                    'Coal':     [23185,23185,23185,23185,23185,23185,23185,23185,23185,23185,23185,23185,23185,23185,23185,23185,23185,23185,23185,23185,23185,23185,23185,23185], \n",
    "                    'Lignite':  [18687,18687,18687,18687,18687,18687,18687,18687,18687,18687,18687,18687,18687,18687,18687,18687,18687,18687,18687,18687,18687,18687,18687,18687,], \n",
    "                    'Nuclear':  [20306,20306,20306,20306,20306,20306,20306,20306,20306,20306,20306,20306,20306,20306,20306,20306,20306,20306,20306,20306,20306,20306,20306,20306], \n",
    "                    'Wind':     [1439,1212,1136,1050,848,788,820,901,950,1096,1148,1361,1419,1680,1745,2030,2459,3235,3720,4238,5095,5627,5985,5800]}"
   ]
  },
  {
   "cell_type": "code",
   "execution_count": null,
   "metadata": {},
   "outputs": [],
   "source": [
    "# convention: demand_t[t] = demand during hour t [MW]\n",
    "demand_t = [65711,62818,61570,60688,61404,63945,69670,76579,80708,81355,82075,83116,82243,81289,79745,79214,81557,84042,82878,79834,75318,73229,71592,66178]"
   ]
  },
  {
   "cell_type": "markdown",
   "metadata": {},
   "source": [
    "## 2. Build the LP model"
   ]
  },
  {
   "cell_type": "code",
   "execution_count": null,
   "metadata": {},
   "outputs": [],
   "source": [
    "model = pyomo.ConcreteModel()"
   ]
  },
  {
   "cell_type": "markdown",
   "metadata": {},
   "source": [
    "### 2.1 Define Sets"
   ]
  },
  {
   "cell_type": "code",
   "execution_count": null,
   "metadata": {},
   "outputs": [],
   "source": [
    "model.T = pyomo.Set(initialize=T)\n",
    "model.G = pyomo.Set(initialize=G)"
   ]
  },
  {
   "cell_type": "markdown",
   "metadata": {},
   "source": [
    "### 2.2 Define Variables"
   ]
  },
  {
   "cell_type": "code",
   "execution_count": null,
   "metadata": {},
   "outputs": [],
   "source": [
    "model.x_g_t = pyomo.Var(model.G, model.T, domain=pyomo.NonNegativeReals)    # dispatched power of technology g during hour t"
   ]
  },
  {
   "cell_type": "markdown",
   "metadata": {},
   "source": [
    "### 2.3 Define Constraints"
   ]
  },
  {
   "cell_type": "code",
   "execution_count": null,
   "metadata": {},
   "outputs": [],
   "source": [
    "def define_demand_restriction(model, t):\n",
    "    return sum(model.x_g_t[g, t] for g in model.G) == demand_t[t]\n",
    "model.demand_restriction = pyomo.Constraint(model.T, rule=define_demand_restriction)"
   ]
  },
  {
   "cell_type": "code",
   "execution_count": null,
   "metadata": {},
   "outputs": [],
   "source": [
    "def define_capacity_restriciton(model, g, t):\n",
    "    return model.x_g_t[g, t] <= availability_g_t[g][t]\n",
    "model.capacity_restriciton = pyomo.Constraint(model.G, model.T, rule=define_capacity_restriciton)"
   ]
  },
  {
   "cell_type": "markdown",
   "metadata": {},
   "source": [
    "### 2.4 Define Objective Function"
   ]
  },
  {
   "cell_type": "code",
   "execution_count": null,
   "metadata": {},
   "outputs": [],
   "source": [
    "def define_objective_function(model):\n",
    "    return sum(((tech_data_g[(g,'fuel price')] + tech_data_g[(g,'emission factor')] * CO2_PRICE) / tech_data_g[(g,'eta_el')]+tech_data_g[(g,'other variable costs')])*model.x_g_t[g,t] for g in model.G for t in model.T)\n",
    "model.Obj = pyomo.Objective(rule=define_objective_function, sense=pyomo.minimize)"
   ]
  },
  {
   "cell_type": "markdown",
   "metadata": {},
   "source": [
    "### 2.5 Write LP to File"
   ]
  },
  {
   "cell_type": "code",
   "execution_count": null,
   "metadata": {},
   "outputs": [],
   "source": [
    "model.write('output/dispatch/04_esa_uebung_LP1_dispatch_hausaufgabe_loesung.lp', io_options={'symbolic_solver_labels':True})"
   ]
  },
  {
   "cell_type": "markdown",
   "metadata": {},
   "source": [
    "### 2.6 Initialize the storage of dual variables of constraints"
   ]
  },
  {
   "cell_type": "code",
   "execution_count": null,
   "metadata": {},
   "outputs": [],
   "source": [
    "model.dual = pyomo.Suffix(direction=pyomo.Suffix.IMPORT)"
   ]
  },
  {
   "cell_type": "markdown",
   "metadata": {},
   "source": [
    "## 3. Solve the LP model"
   ]
  },
  {
   "cell_type": "code",
   "execution_count": null,
   "metadata": {},
   "outputs": [],
   "source": [
    "optimizer = opt.SolverFactory('glpk')\n",
    "solved_model = optimizer.solve(model, tee=True)"
   ]
  },
  {
   "cell_type": "markdown",
   "metadata": {},
   "source": [
    "## 4. Get the results and statistics of the solved LP model"
   ]
  },
  {
   "cell_type": "markdown",
   "metadata": {},
   "source": [
    "### 4.1 Print optimal objective value"
   ]
  },
  {
   "cell_type": "code",
   "execution_count": null,
   "metadata": {},
   "outputs": [],
   "source": [
    "print(\"Optimal value: %.2f Mio. €\" % (round(model.Obj.expr()/10**3,2)))"
   ]
  },
  {
   "cell_type": "markdown",
   "metadata": {},
   "source": [
    "### 4.2 Print optimal dispatch path"
   ]
  },
  {
   "cell_type": "code",
   "execution_count": null,
   "metadata": {},
   "outputs": [],
   "source": [
    "EPS = 1.e-6"
   ]
  },
  {
   "cell_type": "code",
   "execution_count": null,
   "metadata": {},
   "outputs": [],
   "source": [
    "for g in G:\n",
    "    for t in T:\n",
    "        if pyomo.value(model.x_g_t[g,t]) > EPS:\n",
    "            print(\"Dispatch %i TWh of technology %s in hour %s\" % (pyomo.value(model.x_g_t[g,t]),g,t))"
   ]
  },
  {
   "cell_type": "markdown",
   "metadata": {},
   "source": [
    "### 4.3 Print electricity prices as shadow prices of the demand constraint"
   ]
  },
  {
   "cell_type": "code",
   "execution_count": null,
   "metadata": {},
   "outputs": [],
   "source": [
    "dual_values = pd.Series(list(model.dual.values()), index=pd.Index(list(model.dual.keys())))\n",
    "electricity_shadow_prices = pd.Series(list(model.demand_restriction.values()), index=pd.Index(list(model.demand_restriction.keys()))).map(dual_values)"
   ]
  },
  {
   "cell_type": "code",
   "execution_count": null,
   "metadata": {},
   "outputs": [],
   "source": [
    "for t in T:\n",
    "    print(\"Electricity price during t= \"+str(t)+\": \"+str(round(electricity_shadow_prices[t],1))+' €/MWh')"
   ]
  },
  {
   "cell_type": "markdown",
   "metadata": {},
   "source": [
    "### 4.4 Calculate and print dark spread and clean spread"
   ]
  },
  {
   "cell_type": "code",
   "execution_count": null,
   "metadata": {},
   "outputs": [],
   "source": [
    "marginal_costs_coal       = tech_data_g[('Coal','fuel price')]/tech_data_g[('Coal','eta_el')]+tech_data_g[('Coal','other variable costs')]\n",
    "marginal_costs_coal_clean = marginal_costs_coal+tech_data_g[('Coal','emission factor')]*CO2_PRICE/tech_data_g[('Coal','eta_el')]"
   ]
  },
  {
   "cell_type": "code",
   "execution_count": null,
   "metadata": {},
   "outputs": [],
   "source": [
    "dark_spread_t = {}\n",
    "clean_spread_t= {}\n",
    "for t in T:\n",
    "    dark_spread_t[t]  = electricity_shadow_prices[t]-marginal_costs_coal   \n",
    "    clean_spread_t[t] = electricity_shadow_prices[t]-marginal_costs_coal_clean"
   ]
  },
  {
   "cell_type": "code",
   "execution_count": null,
   "metadata": {},
   "outputs": [],
   "source": [
    "for t in T:\n",
    "    print('Dark  spread during t= '+str(t)+\": \"+str(round(dark_spread_t[t],1))+' €/MWh')"
   ]
  },
  {
   "cell_type": "code",
   "execution_count": null,
   "metadata": {},
   "outputs": [],
   "source": [
    "for t in T:\n",
    "    print('Clean spread during t= '+str(t)+\": \"+str(round(clean_spread_t[t],1))+' €/MWh')    "
   ]
  }
 ],
 "metadata": {
  "kernelspec": {
   "display_name": "Python 3 (ipykernel)",
   "language": "python",
   "name": "python3"
  },
  "language_info": {
   "codemirror_mode": {
    "name": "ipython",
    "version": 3
   },
   "file_extension": ".py",
   "mimetype": "text/x-python",
   "name": "python",
   "nbconvert_exporter": "python",
   "pygments_lexer": "ipython3",
   "version": "3.10.2"
  }
 },
 "nbformat": 4,
 "nbformat_minor": 2
}
