{
 "cells": [
  {
   "cell_type": "code",
   "execution_count": 1,
   "metadata": {},
   "outputs": [],
   "source": [
    "from __future__ import division\n",
    "import pyomo.environ as pyomo\n",
    "import pyomo.opt as opt\n",
    "\n",
    "import pandas as pd\n",
    "\n",
    "import matplotlib.pyplot as plt"
   ]
  },
  {
   "cell_type": "markdown",
   "metadata": {},
   "source": [
    "# Welcome to the ESA programming exercise on basic dispatch LP models"
   ]
  },
  {
   "cell_type": "markdown",
   "metadata": {},
   "source": [
    "## 1. Prepare the input data for the LP model"
   ]
  },
  {
   "cell_type": "code",
   "execution_count": 2,
   "metadata": {},
   "outputs": [],
   "source": [
    "T = [0,1,2,3,4,5,6,7,8,9] # set of timesteps\n",
    "G = ['CCGT','GT','Coal','Lignite','Nuclear','Wind','PV'] # generator technologies\n",
    "V = ['diesel','gasoline','gas','electricity'] # passenger car engine technologies"
   ]
  },
  {
   "cell_type": "code",
   "execution_count": 3,
   "metadata": {},
   "outputs": [],
   "source": [
    "# tax for CO2 emissions [€/t CO2]\n",
    "CO2_TAX = 0"
   ]
  },
  {
   "cell_type": "code",
   "execution_count": 4,
   "metadata": {},
   "outputs": [],
   "source": [
    "# max CO2 emissions allowed (for elecitricity generation and passenger car mobility) [Mio. t CO2]\n",
    "MAX_CO2_limit = False\n",
    "MAX_CO2_value = 25"
   ]
  },
  {
   "cell_type": "code",
   "execution_count": 5,
   "metadata": {},
   "outputs": [],
   "source": [
    "# decide whether to phase out of nuclear energy\n",
    "nuclear_phase_out = False"
   ]
  },
  {
   "cell_type": "code",
   "execution_count": 6,
   "metadata": {},
   "outputs": [],
   "source": [
    "# Gas price increase [1]\n",
    "GAS_PR_LVL = 1.0"
   ]
  },
  {
   "cell_type": "code",
   "execution_count": 7,
   "metadata": {},
   "outputs": [],
   "source": [
    "# constant length of timesteps\n",
    "LENGTH = 876"
   ]
  },
  {
   "cell_type": "code",
   "execution_count": 8,
   "metadata": {},
   "outputs": [],
   "source": [
    "# peak load [MW]\n",
    "PEAK_LOAD = 79487"
   ]
  },
  {
   "cell_type": "code",
   "execution_count": 9,
   "metadata": {},
   "outputs": [],
   "source": [
    "# number of passenger cars [1]\n",
    "PAS_CARS = 48*1e6"
   ]
  },
  {
   "cell_type": "code",
   "execution_count": 10,
   "metadata": {},
   "outputs": [],
   "source": [
    "# convention:   tech_data[(g,'invest')] = investment costs of technology g [€/kW_el]\n",
    "#               tech_data[(g,'eta_el')] = efficiency factor of technology g [1]\n",
    "#               tech_data[(g,'fuel price')]= fuel price of technology g [€/MWh_thermal]\n",
    "#               tech_data[(g,'other variable costs')] = other variable costs of technology g [€/MWh_el]\n",
    "#               tech_data[(g,'emissions')] = emission factor of technology g [kg CO2/MWh_thermal]\n",
    "\n",
    "tech_data_g = {('CCGT','invest'):    500,('CCGT','RBF'):    9.8,('CCGT','eta_el'):   0.55,('CCGT','fuel price'):   28.00*(GAS_PR_LVL),('CCGT','other variable costs'):    5.23,('CCGT','emissions'):   204.8, \n",
    "               ('GT','invest'):      450,('GT','RBF'):      9.8,('GT','eta_el'):     0.37,('GT','fuel price'):     28.00*(GAS_PR_LVL),('GT','other variable costs'):      3.60,('GT','emissions'):     204.8, \n",
    "               ('Coal','invest'):   1300,('Coal','RBF'):   11.3,('Coal','eta_el'):   0.42,('Coal','fuel price'):   10.47,             ('Coal','other variable costs'):    9.70,('Coal','emissions'):   342.0,\n",
    "               ('Lignite','invest'):1400,('Lignite','RBF'):11.3,('Lignite','eta_el'):0.39,('Lignite','fuel price'): 7.50,             ('Lignite','other variable costs'):13.44,('Lignite','emissions'):400.0, \n",
    "               ('Nuclear','invest'):3000,('Nuclear','RBF'):11.9,('Nuclear','eta_el'):0.35,('Nuclear','fuel price'): 3.47,             ('Nuclear','other variable costs'): 7.46,('Nuclear','emissions'):  0.0, \n",
    "               ('Wind','invest'):   1200,('Wind','RBF'):    9.8,('Wind','eta_el'):    1.0,('Wind','fuel price'):     0.0,             ('Wind','other variable costs'):    3.32,('Wind','emissions'):  0.0, \n",
    "               ('PV','invest'):     900,('PV','RBF'):      9.8,('PV','eta_el'):      1.0,('PV','fuel price'):        0.0,             ('PV','other variable costs'):      2.55,('PV','emissions'):  0.0}"
   ]
  },
  {
   "cell_type": "code",
   "execution_count": 11,
   "metadata": {},
   "outputs": [],
   "source": [
    "# convention:   efficiency_data_v[(v,'invest')] = investment costs of technology v [€/unit]\n",
    "#               efficiency_data_v[(v,'eta_final_to_service')] = required end energy for providing a unit of mobility service of technology v [kWh/100km]\n",
    "#               efficiency_data_v[(v,'fuel price')] = fuel price of technology v (for electricity without procurement and supply) [€/(MWh_th or el)]\n",
    "#               efficiency_data_v[(v,'other variable costs')] = other variable costs of technology v [€/year]\n",
    "#               efficiency_data_v[(v,'emissions')] = emission factor of technology g [kg CO2/MWh_thermal]\n",
    "\n",
    "vehicle_data_v = {('diesel', 'invest'): 25600,      ('diesel', 'RBF'): 9.4,      ('diesel', 'eta_final_to_service'): 70.17,          ('diesel', 'fuel price'): 122.4,      ('diesel', 'other variable costs'): 409.47,      ('diesel','emissions'): 241.84, \n",
    "                  ('gasoline', 'invest'): 23000,    ('gasoline', 'RBF'): 9.4,    ('gasoline', 'eta_final_to_service'): 68.83,        ('gasoline', 'fuel price'): 168.5,    ('gasoline', 'other variable costs'): 368.38,    ('gasoline','emissions'): 297.75, \n",
    "                  ('gas', 'invest'): 24600,         ('gas', 'RBF'): 9.4,         ('gas', 'eta_final_to_service'): 60.94*(GAS_PR_LVL),('gas', 'fuel price'): 91.7,          ('gas', 'other variable costs'): 394.14,         ('gas','emissions'): 135.83, \n",
    "                  ('electricity', 'invest'): 33900, ('electricity', 'RBF'): 6.7, ('electricity', 'eta_final_to_service'): 20.19,     ('electricity', 'fuel price'): 242.0, ('electricity', 'other variable costs'): 305.13, ('electricity','emissions'): 0.0}"
   ]
  },
  {
   "cell_type": "code",
   "execution_count": 12,
   "metadata": {},
   "outputs": [],
   "source": [
    "# convention: load_t[t] = constant load during timestep t [MW]\n",
    "load_t = [73409,69648,66632,63454,59526,55367,51970,49045,46030,41466]"
   ]
  },
  {
   "cell_type": "code",
   "execution_count": 13,
   "metadata": {},
   "outputs": [],
   "source": [
    "# mobility demand: vehicle_pas_car_t[t] = vehicle km traveled on average by a passenger car during the full length of timestep t [km]\n",
    "vehicle_pas_car_t = [1199,1351,1376,1354,1404,1546,1512,1408,1337,1239]"
   ]
  },
  {
   "cell_type": "code",
   "execution_count": 14,
   "metadata": {},
   "outputs": [],
   "source": [
    "availability_g_t = {\n",
    "    'CCGT': [1.0,1.0,1.0,1.0,1.0,1.0,1.0,1.0,1.0,1.0],\n",
    "    'GT': [1.0,1.0,1.0,1.0,1.0,1.0,1.0,1.0,1.0,1.0],\n",
    "    'Coal': [1.0,1.0,1.0,1.0,1.0,1.0,1.0,1.0,1.0,1.0],\n",
    "    'Lignite': [1.0,1.0,1.0,1.0,1.0,1.0,1.0,1.0,1.0,1.0],\n",
    "    'Nuclear': [1.0,1.0,1.0,1.0,1.0,1.0,1.0,1.0,1.0,1.0],\n",
    "    'Wind': [0.2696,0.2419,0.2159,0.1930,0.2140,0.2086,0.2208,0.2429,0.2965,0.4614],\n",
    "    'PV': [0.0267,0.0579,0.1197,0.1767,0.1947,0.1951,0.1558,0.0947,0.0383,0.0194]\n",
    "}"
   ]
  },
  {
   "cell_type": "markdown",
   "metadata": {},
   "source": [
    "## 2. Build the LP model"
   ]
  },
  {
   "cell_type": "code",
   "execution_count": 15,
   "metadata": {},
   "outputs": [],
   "source": [
    "model = pyomo.ConcreteModel()"
   ]
  },
  {
   "cell_type": "markdown",
   "metadata": {},
   "source": [
    "### 2.1 Define Sets"
   ]
  },
  {
   "cell_type": "code",
   "execution_count": 16,
   "metadata": {},
   "outputs": [],
   "source": [
    "model.T = pyomo.Set(initialize=T)\n",
    "model.G = pyomo.Set(initialize=G)\n",
    "model.V = pyomo.Set(initialize=V)"
   ]
  },
  {
   "cell_type": "markdown",
   "metadata": {},
   "source": [
    "### 2.2 Define Variables"
   ]
  },
  {
   "cell_type": "code",
   "execution_count": 17,
   "metadata": {},
   "outputs": [],
   "source": [
    "model.x_g_t = pyomo.Var(model.G, model.T, domain=pyomo.NonNegativeReals)    # dispatched power of technology g during hour t [MW]\n",
    "model.y_g = pyomo.Var(model.G, domain=pyomo.NonNegativeReals)               # installed capacity per technology g [MW]\n",
    "model.y_v = pyomo.Var(model.V, domain=pyomo.NonNegativeReals)               # installed capacity per technology v [MW]"
   ]
  },
  {
   "cell_type": "markdown",
   "metadata": {},
   "source": [
    "### 2.3 Define Constraints"
   ]
  },
  {
   "cell_type": "code",
   "execution_count": 18,
   "metadata": {},
   "outputs": [],
   "source": [
    "# cover electricity demand\n",
    "def define_electricity_demand_restriction(model, t):\n",
    "    return sum(model.x_g_t[g, t] for g in model.G) == load_t[t] + \\\n",
    "               model.y_v[\"electricity\"] * vehicle_pas_car_t[t] * vehicle_data_v[('electricity', 'eta_final_to_service')] / 100000 / LENGTH\n",
    "model.electricity_demand_restriction = pyomo.Constraint(model.T, rule=define_electricity_demand_restriction)"
   ]
  },
  {
   "cell_type": "code",
   "execution_count": 19,
   "metadata": {},
   "outputs": [],
   "source": [
    "# cover mobility demand\n",
    "def define_mobility_demand_restriction(model):\n",
    "    return sum(model.y_v[v] for v in model.V) == PAS_CARS\n",
    "model.mobility_demand_restriction = pyomo.Constraint(rule=define_mobility_demand_restriction)"
   ]
  },
  {
   "cell_type": "code",
   "execution_count": 20,
   "metadata": {},
   "outputs": [],
   "source": [
    "# cover peak load\n",
    "def define_peak_load_restriction(model):\n",
    "    return sum(model.y_g[g] for g in model.G) >= PEAK_LOAD\n",
    "model.peak_load_restriction = pyomo.Constraint(rule=define_peak_load_restriction)"
   ]
  },
  {
   "cell_type": "code",
   "execution_count": 21,
   "metadata": {},
   "outputs": [],
   "source": [
    "# capacity restriciton and variable connection\n",
    "def define_capacity_restriciton(model, g, t):\n",
    "    return model.x_g_t[g,t] <= availability_g_t[g][t] * model.y_g[g]\n",
    "model.capacity_restriciton = pyomo.Constraint(model.G, model.T, rule=define_capacity_restriciton)"
   ]
  },
  {
   "cell_type": "code",
   "execution_count": 22,
   "metadata": {},
   "outputs": [],
   "source": [
    "# no use of nuclear power plants\n",
    "if nuclear_phase_out:\n",
    "    def define_nuclear_restriciton(model):\n",
    "        return model.y_g['Nuclear'] == 0\n",
    "    model.nuclear_restriciton = pyomo.Constraint(rule=define_nuclear_restriciton)"
   ]
  },
  {
   "cell_type": "code",
   "execution_count": 23,
   "metadata": {},
   "outputs": [],
   "source": [
    "# no use of nuclear power plants\n",
    "if MAX_CO2_limit:\n",
    "    def define_co2_limit(model):\n",
    "        return sum(model.x_g_t[g, t] * LENGTH * tech_data_g[(g,'emissions')] / tech_data_g[(g,'eta_el')] for g in model.G for t in model.T) \\\n",
    "               + sum(model.y_v[v] * vehicle_data_v[(v,'emissions')] * vehicle_data_v[(v,'eta_final_to_service')] / 100000 * vehicle_pas_car_t[t] for v in model.V for t in model.T) \\\n",
    "               <= MAX_CO2_value * 10**9\n",
    "    model.co2_limit = pyomo.Constraint(rule=define_co2_limit)"
   ]
  },
  {
   "cell_type": "markdown",
   "metadata": {},
   "source": [
    "### 2.4 Define Objective Function"
   ]
  },
  {
   "cell_type": "code",
   "execution_count": 24,
   "metadata": {},
   "outputs": [],
   "source": [
    "# define objective function (i.e. dispatch costs)\n",
    "def define_objective_function(model):\n",
    "    return sum(\n",
    "                tech_data_g[(g,'invest')] * 1000 / tech_data_g[(g,'RBF')] * \\\n",
    "                model.y_g[g] \n",
    "                for g in model.G\n",
    "              ) + \\\n",
    "            sum(\n",
    "                (vehicle_data_v[(v,'invest')] / vehicle_data_v[(v,'RBF')] + vehicle_data_v[(v,'other variable costs')]) * \\\n",
    "                model.y_v[v] \n",
    "                for v in model.V\n",
    "              ) + \\\n",
    "           sum(\n",
    "                (\n",
    "                    (tech_data_g[(g,'fuel price')] + tech_data_g[(g,'emissions')] * (CO2_TAX/1000)) / \n",
    "                    tech_data_g[(g,'eta_el')] + \\\n",
    "                    tech_data_g[(g,'other variable costs')] \\\n",
    "                ) * \\\n",
    "                model.x_g_t[g,t] * LENGTH \n",
    "                for g in model.G for t in model.T\n",
    "              ) + \\\n",
    "           sum(\n",
    "                (\n",
    "                    (vehicle_data_v[(v,'fuel price')] + vehicle_data_v[(v,'emissions')] * (CO2_TAX/1000)) * \\\n",
    "                     vehicle_data_v[(v,'eta_final_to_service')] / 100000 \\\n",
    "                     * vehicle_pas_car_t[t] \\\n",
    "                ) * \\\n",
    "                model.y_v[v]\n",
    "                for v in model.V for t in model.T\n",
    "              )\n",
    "model.Obj = pyomo.Objective(rule=define_objective_function, sense=pyomo.minimize)"
   ]
  },
  {
   "cell_type": "markdown",
   "metadata": {},
   "source": [
    "### 2.5 Write LP to File"
   ]
  },
  {
   "cell_type": "code",
   "execution_count": 25,
   "metadata": {},
   "outputs": [
    {
     "data": {
      "text/plain": [
       "('output/sector_coupling/09_tesa_uebung_LP2_sektorenkopplung_loesung.lp',\n",
       " 1712071584032)"
      ]
     },
     "execution_count": 25,
     "metadata": {},
     "output_type": "execute_result"
    }
   ],
   "source": [
    "model.write('output/sector_coupling/09_tesa_uebung_LP2_sektorenkopplung_loesung.lp', io_options={'symbolic_solver_labels':True})"
   ]
  },
  {
   "cell_type": "markdown",
   "metadata": {},
   "source": [
    "### 2.6 Initialize the storage of dual variables of constraints"
   ]
  },
  {
   "cell_type": "code",
   "execution_count": 26,
   "metadata": {},
   "outputs": [],
   "source": [
    "model.dual = pyomo.Suffix(direction=pyomo.Suffix.IMPORT)"
   ]
  },
  {
   "cell_type": "markdown",
   "metadata": {},
   "source": [
    "## 3. Solve the LP model"
   ]
  },
  {
   "cell_type": "code",
   "execution_count": 27,
   "metadata": {},
   "outputs": [
    {
     "name": "stdout",
     "output_type": "stream",
     "text": [
      "GLPSOL: GLPK LP/MIP Solver, v4.65\n",
      "Parameter(s) specified in the command line:\n",
      " --write C:\\Users\\jpr\\AppData\\Local\\Temp\\tmpw8wj5f78.glpk.raw --wglp C:\\Users\\jpr\\AppData\\Local\\Temp\\tmpsyppdyl4.glpk.glp\n",
      " --cpxlp C:\\Users\\jpr\\AppData\\Local\\Temp\\tmpi4rk7yv_.pyomo.lp\n",
      "Reading problem data from 'C:\\Users\\jpr\\AppData\\Local\\Temp\\tmpi4rk7yv_.pyomo.lp'...\n",
      "83 rows, 82 columns, 232 non-zeros\n",
      "651 lines were read\n",
      "Writing problem data to 'C:\\Users\\jpr\\AppData\\Local\\Temp\\tmpsyppdyl4.glpk.glp'...\n",
      "564 lines were written\n",
      "GLPK Simplex Optimizer, v4.65\n",
      "83 rows, 82 columns, 232 non-zeros\n",
      "Preprocessing...\n",
      "82 rows, 80 columns, 230 non-zeros\n",
      "Scaling...\n",
      " A: min|aij| =  2.763e-04  max|aij| =  1.000e+00  ratio =  3.619e+03\n",
      "GM: min|aij| =  5.931e-01  max|aij| =  1.686e+00  ratio =  2.843e+00\n",
      "EQ: min|aij| =  3.545e-01  max|aij| =  1.000e+00  ratio =  2.820e+00\n",
      "Constructing initial basis...\n",
      "Size of triangular part is 82\n",
      "      0: obj =   2.154456393e+11 inf =   1.018e+07 (11)\n",
      "     14: obj =   2.560678734e+11 inf =   0.000e+00 (0)\n",
      "*    72: obj =   2.066070106e+11 inf =   0.000e+00 (0)\n",
      "OPTIMAL LP SOLUTION FOUND\n",
      "Time used:   0.0 secs\n",
      "Memory used: 0.1 Mb (148867 bytes)\n",
      "Writing basic solution to 'C:\\Users\\jpr\\AppData\\Local\\Temp\\tmpw8wj5f78.glpk.raw'...\n",
      "174 lines were written\n"
     ]
    }
   ],
   "source": [
    "optimizer = opt.SolverFactory('glpk')\n",
    "solved_model = optimizer.solve(model, tee=True)"
   ]
  },
  {
   "cell_type": "markdown",
   "metadata": {},
   "source": [
    "## 4. Get the results and statistics of the solved LP model"
   ]
  },
  {
   "cell_type": "markdown",
   "metadata": {},
   "source": [
    "### 4.1 Print optimal objective value"
   ]
  },
  {
   "cell_type": "code",
   "execution_count": 28,
   "metadata": {},
   "outputs": [
    {
     "name": "stdout",
     "output_type": "stream",
     "text": [
      "Optimal value: 206.61 Bio. €\n"
     ]
    }
   ],
   "source": [
    "print(\"Optimal value: %.2f Bio. €\" % (round(model.Obj.expr()/1e9,2)))"
   ]
  },
  {
   "cell_type": "markdown",
   "metadata": {},
   "source": [
    "### 4.2 Print optimal invest for power plant technologies"
   ]
  },
  {
   "cell_type": "code",
   "execution_count": 29,
   "metadata": {},
   "outputs": [
    {
     "name": "stdout",
     "output_type": "stream",
     "text": [
      "Install 9317 MW of power plant technology CCGT\n",
      "Install 8216 MW of power plant technology Coal\n",
      "Install 16004 MW of power plant technology Lignite\n",
      "Install 37626 MW of power plant technology Nuclear\n",
      "Install 8321 MW of power plant technology Wind\n"
     ]
    }
   ],
   "source": [
    "EPS = 1e-6\n",
    "\n",
    "for g in G:\n",
    "    if pyomo.value(model.y_g[g]) > EPS: \n",
    "        print('Install %i MW of power plant technology %s' % (pyomo.value(model.y_g[g]),g))"
   ]
  },
  {
   "cell_type": "markdown",
   "metadata": {},
   "source": [
    "### 4.2 Print optimal invest for passenger car technologies"
   ]
  },
  {
   "cell_type": "code",
   "execution_count": 30,
   "metadata": {},
   "outputs": [
    {
     "name": "stdout",
     "output_type": "stream",
     "text": [
      "Install 48000000 units of passenger car technology gas\n"
     ]
    }
   ],
   "source": [
    "EPS = 1e-6\n",
    "\n",
    "for v in V:\n",
    "    if pyomo.value(model.y_v[v]) > EPS: \n",
    "        print('Install %i units of passenger car technology %s' % (pyomo.value(model.y_v[v]),v))"
   ]
  },
  {
   "cell_type": "markdown",
   "metadata": {},
   "source": [
    "### 4.3 Print optimal dispatch path"
   ]
  },
  {
   "cell_type": "code",
   "execution_count": 31,
   "metadata": {},
   "outputs": [
    {
     "name": "stdout",
     "output_type": "stream",
     "text": [
      "Dispatch 8 TWh of technology CCGT in timestep 0\n",
      "Dispatch 5 TWh of technology CCGT in timestep 1\n",
      "Dispatch 2 TWh of technology CCGT in timestep 2\n",
      "Dispatch 7 TWh of technology Coal in timestep 0\n",
      "Dispatch 7 TWh of technology Coal in timestep 1\n",
      "Dispatch 7 TWh of technology Coal in timestep 2\n",
      "Dispatch 7 TWh of technology Coal in timestep 3\n",
      "Dispatch 3 TWh of technology Coal in timestep 4\n",
      "Dispatch 14 TWh of technology Lignite in timestep 0\n",
      "Dispatch 14 TWh of technology Lignite in timestep 1\n",
      "Dispatch 14 TWh of technology Lignite in timestep 2\n",
      "Dispatch 14 TWh of technology Lignite in timestep 3\n",
      "Dispatch 14 TWh of technology Lignite in timestep 4\n",
      "Dispatch 14 TWh of technology Lignite in timestep 5\n",
      "Dispatch 10 TWh of technology Lignite in timestep 6\n",
      "Dispatch 8 TWh of technology Lignite in timestep 7\n",
      "Dispatch 5 TWh of technology Lignite in timestep 8\n",
      "Dispatch 32 TWh of technology Nuclear in timestep 0\n",
      "Dispatch 32 TWh of technology Nuclear in timestep 1\n",
      "Dispatch 32 TWh of technology Nuclear in timestep 2\n",
      "Dispatch 32 TWh of technology Nuclear in timestep 3\n",
      "Dispatch 32 TWh of technology Nuclear in timestep 4\n",
      "Dispatch 32 TWh of technology Nuclear in timestep 5\n",
      "Dispatch 32 TWh of technology Nuclear in timestep 6\n",
      "Dispatch 32 TWh of technology Nuclear in timestep 7\n",
      "Dispatch 32 TWh of technology Nuclear in timestep 8\n",
      "Dispatch 32 TWh of technology Nuclear in timestep 9\n",
      "Dispatch 1 TWh of technology Wind in timestep 0\n",
      "Dispatch 1 TWh of technology Wind in timestep 1\n",
      "Dispatch 1 TWh of technology Wind in timestep 2\n",
      "Dispatch 1 TWh of technology Wind in timestep 3\n",
      "Dispatch 1 TWh of technology Wind in timestep 4\n",
      "Dispatch 1 TWh of technology Wind in timestep 5\n",
      "Dispatch 1 TWh of technology Wind in timestep 6\n",
      "Dispatch 1 TWh of technology Wind in timestep 7\n",
      "Dispatch 2 TWh of technology Wind in timestep 8\n",
      "Dispatch 3 TWh of technology Wind in timestep 9\n"
     ]
    }
   ],
   "source": [
    "for g in G:\n",
    "    for t in T:\n",
    "        if pyomo.value(model.x_g_t[g,t]) > EPS:\n",
    "            print(\"Dispatch %i TWh of technology %s in timestep %s\" % (pyomo.value(model.x_g_t[g,t])*LENGTH/1e6,g,t))        "
   ]
  },
  {
   "cell_type": "markdown",
   "metadata": {},
   "source": [
    "### 4.4 Calculate full load hours"
   ]
  },
  {
   "cell_type": "code",
   "execution_count": 32,
   "metadata": {},
   "outputs": [
    {
     "name": "stdout",
     "output_type": "stream",
     "text": [
      "Full load hours of technology CCGT: 1700 h\n",
      "Technology GT is not installed\n",
      "Full load hours of technology Coal: 3942 h\n",
      "Full load hours of technology Lignite: 6779 h\n",
      "Full load hours of technology Nuclear: 8760 h\n",
      "Full load hours of technology Wind: 2246 h\n",
      "Technology PV is not installed\n"
     ]
    }
   ],
   "source": [
    "full_load_hours = {}\n",
    "for g in G:\n",
    "    if pyomo.value(model.y_g[g]) > EPS:\n",
    "        full_load_hours[g] = sum(pyomo.value(model.x_g_t[g,t]) * LENGTH for t in T) / pyomo.value(model.y_g[g])\n",
    "        print('Full load hours of technology %s: %i h' % (g,full_load_hours[g]))\n",
    "    else:\n",
    "        print('Technology %s is not installed' % g)"
   ]
  },
  {
   "cell_type": "markdown",
   "metadata": {},
   "source": [
    "### 4.5 Calculate total emissions"
   ]
  },
  {
   "cell_type": "code",
   "execution_count": 33,
   "metadata": {},
   "outputs": [
    {
     "name": "stdout",
     "output_type": "stream",
     "text": [
      "Total emissions of power plant technology CCGT: 5 Mt\n",
      "Total emissions of power plant technology GT: 0 Mt\n",
      "Total emissions of power plant technology Coal: 26 Mt\n",
      "Total emissions of power plant technology Lignite: 111 Mt\n",
      "Total emissions of power plant technology Nuclear: 0 Mt\n",
      "Total emissions of power plant technology Wind: 0 Mt\n",
      "Total emissions of power plant technology PV: 0 Mt\n",
      "Overall emissions from electricity generation: 143 Mt\n",
      "\n",
      "Total emissions from passenger car type diesel: 0 Mt\n",
      "Total emissions from passenger car type gasoline: 0 Mt\n",
      "Total emissions from passenger car type gas: 54 Mt\n",
      "Total emissions from passenger car type electricity: 0 Mt\n",
      "Overall emissions from passenger cars: 54 Mt\n",
      "\n",
      "Sum of emissions of technologies depicted in the model: 198 Mt\n"
     ]
    }
   ],
   "source": [
    "total_emission_elec_gen = {}\n",
    "for g in G:\n",
    "    total_emission_elec_gen[g] = sum(pyomo.value(model.x_g_t[g,t]) * LENGTH * (tech_data_g[(g,'emissions')]) / tech_data_g[(g,'eta_el')] for t in T) / 10**9 # unit: Mt\n",
    "    print('Total emissions of power plant technology %s: %i Mt' % (g,total_emission_elec_gen[g]))\n",
    "print('Overall emissions from electricity generation: %i Mt' % sum(total_emission_elec_gen[g] for g in G))\n",
    "\n",
    "print() # empty line\n",
    "\n",
    "total_emission_pass_cars = {}\n",
    "for v in V:\n",
    "    total_emission_pass_cars[v] = sum(pyomo.value(model.y_v[v]) * vehicle_data_v[(v,'emissions')] * vehicle_data_v[(v,'eta_final_to_service')] / 100000 * vehicle_pas_car_t[t] for t in T) / 10**9 # unit: Mt\n",
    "    print('Total emissions from passenger car type %s: %i Mt' % (v,total_emission_pass_cars[v]))\n",
    "print('Overall emissions from passenger cars: %i Mt' % sum(total_emission_pass_cars[v] for v in V))\n",
    "\n",
    "print() # empty line\n",
    "\n",
    "print('Sum of emissions of technologies depicted in the model: %i Mt' % (sum(total_emission_elec_gen[g] for g in G) + sum(total_emission_pass_cars[v] for v in V)))"
   ]
  },
  {
   "cell_type": "markdown",
   "metadata": {},
   "source": [
    "### 4.6 Print electricity prices as shadow prices of the demand constraint"
   ]
  },
  {
   "cell_type": "code",
   "execution_count": 34,
   "metadata": {},
   "outputs": [],
   "source": [
    "dual_values = pd.Series(list(model.dual.values()), index=pd.Index(list(model.dual.keys())))\n",
    "electricity_shadow_prices = pd.Series(list(model.electricity_demand_restriction.values()), index=pd.Index(list(model.electricity_demand_restriction.keys()))).map(dual_values).divide(LENGTH)"
   ]
  },
  {
   "cell_type": "code",
   "execution_count": 35,
   "metadata": {},
   "outputs": [
    {
     "name": "stdout",
     "output_type": "stream",
     "text": [
      "Electricity price during t= 0: 70.2 €/MWh\n",
      "Electricity price during t= 1: 56.1 €/MWh\n",
      "Electricity price during t= 2: 56.1 €/MWh\n",
      "Electricity price during t= 3: 43.2 €/MWh\n",
      "Electricity price during t= 4: 34.6 €/MWh\n",
      "Electricity price during t= 5: 33.0 €/MWh\n",
      "Electricity price during t= 6: 32.7 €/MWh\n",
      "Electricity price during t= 7: 32.7 €/MWh\n",
      "Electricity price during t= 8: 32.7 €/MWh\n",
      "Electricity price during t= 9: 26.1 €/MWh\n"
     ]
    }
   ],
   "source": [
    "for t in T:\n",
    "    print(\"Electricity price during t= \"+str(t)+\": \"+str(round(electricity_shadow_prices[t],1))+' €/MWh')"
   ]
  },
  {
   "cell_type": "markdown",
   "metadata": {},
   "source": [
    "### 4.7 calculate total profit per technology --> contribution - fixed costs"
   ]
  },
  {
   "cell_type": "code",
   "execution_count": 36,
   "metadata": {},
   "outputs": [
    {
     "name": "stdout",
     "output_type": "stream",
     "text": [
      "Total profit of technology CCGT: -360 Mio €\n",
      "Total profit of technology GT: 0 Mio €\n",
      "Total profit of technology Coal: -318 Mio €\n",
      "Total profit of technology Lignite: -619 Mio €\n",
      "Total profit of technology Nuclear: -1456 Mio €\n",
      "Total profit of technology Wind: -322 Mio €\n",
      "Total profit of technology PV: 0 Mio €\n"
     ]
    }
   ],
   "source": [
    "variable_costs = {}\n",
    "contribution = {}\n",
    "fixed_costs ={}\n",
    "profit = {}\n",
    "for g in G:\n",
    "    variable_costs[g]       = (tech_data_g[(g,'fuel price')] + tech_data_g[(g,'emissions')]*CO2_TAX/1000)/tech_data_g[(g,'eta_el')] + tech_data_g[(g,'other variable costs')]\n",
    "    contribution[g]         = sum ((electricity_shadow_prices[t]-variable_costs[g])*pyomo.value(model.x_g_t[g,t])*LENGTH for t in T)\n",
    "    fixed_costs[g]          = pyomo.value(model.y_g[g])*tech_data_g[(g,'invest')]*1000/tech_data_g[(g,'RBF')]\n",
    "    profit[g]               = (contribution[g]-fixed_costs[g])/1e6\n",
    "    print('Total profit of technology %s: %i Mio €' % (g,profit[g]))"
   ]
  },
  {
   "cell_type": "markdown",
   "metadata": {},
   "source": [
    "## 5. Visualize results"
   ]
  },
  {
   "cell_type": "markdown",
   "metadata": {},
   "source": [
    "### 5.1 Create pie chart of installed capacities"
   ]
  },
  {
   "cell_type": "code",
   "execution_count": 37,
   "metadata": {},
   "outputs": [],
   "source": [
    "sizes = []\n",
    "labels = []\n",
    "for g in G:\n",
    "    if pyomo.value(model.y_g[g]) > EPS: \n",
    "        sizes.append(pyomo.value(model.y_g[g]))\n",
    "        labels.append(g)\n",
    "total = sum(sizes)"
   ]
  },
  {
   "cell_type": "code",
   "execution_count": 38,
   "metadata": {},
   "outputs": [
    {
     "data": {
      "text/plain": [
       "(-1.132456040733072,\n",
       " 1.1015455311378566,\n",
       " -1.1304503781933914,\n",
       " 1.1245355599995808)"
      ]
     },
     "execution_count": 38,
     "metadata": {},
     "output_type": "execute_result"
    },
    {
     "data": {
      "image/png": "[encoded data removed]",
      "text/plain": [
       "<Figure size 432x288 with 1 Axes>"
      ]
     },
     "metadata": {},
     "output_type": "display_data"
    }
   ],
   "source": [
    "fig1, ax1 = plt.subplots()\n",
    "\n",
    "ax1.pie(sizes,labels=labels, autopct=lambda p: '{:.0f}'.format(p * total / 100)) # autopct is used for automatic labelling, no need to understand all coding details here\n",
    "ax1.axis('equal')  # Equal aspect ratio ensures that pie is drawn as a circle"
   ]
  },
  {
   "cell_type": "markdown",
   "metadata": {},
   "source": [
    "### 5.2 Create line chart of dispatched power"
   ]
  },
  {
   "cell_type": "code",
   "execution_count": 39,
   "metadata": {},
   "outputs": [],
   "source": [
    "dispatch_g = {g: [] for g in G}\n",
    "for t in T:\n",
    "    for g in G:\n",
    "        dispatch_g[g].append(pyomo.value(model.x_g_t[g,t]))"
   ]
  },
  {
   "cell_type": "code",
   "execution_count": 40,
   "metadata": {},
   "outputs": [
    {
     "data": {
      "text/plain": [
       "Text(0, 0.5, 'Dispatched Power [MW]')"
      ]
     },
     "execution_count": 40,
     "metadata": {},
     "output_type": "execute_result"
    },
    {
     "data": {
      "image/png": "[encoded data removed]",
      "text/plain": [
       "<Figure size 432x288 with 1 Axes>"
      ]
     },
     "metadata": {
      "needs_background": "light"
     },
     "output_type": "display_data"
    }
   ],
   "source": [
    "fig2, ax2 = plt.subplots()\n",
    "\n",
    "for g in G:\n",
    "    ax2.plot(T, dispatch_g[g])\n",
    "ax2.legend(G)\n",
    "ax2.xaxis.set_ticks(T)\n",
    "ax2.set_ylabel('Dispatched Power [MW]')"
   ]
  },
  {
   "cell_type": "markdown",
   "metadata": {},
   "source": [
    "### 5.3 Create line chart of electricity consumption"
   ]
  },
  {
   "cell_type": "code",
   "execution_count": 41,
   "metadata": {},
   "outputs": [],
   "source": [
    "load_t_new = []\n",
    "for t in T:\n",
    "    temp_load = 0.0\n",
    "    for g in G:\n",
    "        temp_load += dispatch_g[g][t]\n",
    "    load_t_new.append(temp_load)"
   ]
  },
  {
   "cell_type": "code",
   "execution_count": 42,
   "metadata": {},
   "outputs": [
    {
     "data": {
      "text/plain": [
       "Text(0, 0.5, 'Electricity Consumption [MWh]')"
      ]
     },
     "execution_count": 42,
     "metadata": {},
     "output_type": "execute_result"
    },
    {
     "data": {
      "image/png": "[encoded data removed]",
      "text/plain": [
       "<Figure size 432x288 with 1 Axes>"
      ]
     },
     "metadata": {
      "needs_background": "light"
     },
     "output_type": "display_data"
    }
   ],
   "source": [
    "fig2, ax2 = plt.subplots()\n",
    "\n",
    "ax2.plot(T, load_t_new)\n",
    "ax2.plot(T, load_t)\n",
    "ax2.legend([\"New consumption\", \"Old consumption\"])\n",
    "ax2.xaxis.set_ticks(T)\n",
    "ax2.set_ylabel('Electricity Consumption [MWh]')"
   ]
  },
  {
   "cell_type": "markdown",
   "metadata": {},
   "source": [
    "### 5.4 Create line chart of energy consumption"
   ]
  },
  {
   "cell_type": "code",
   "execution_count": 43,
   "metadata": {},
   "outputs": [],
   "source": [
    "fuel_name_translation_dict = {\n",
    "    'CCGT': 'Gas',\n",
    "    'GT': 'Gas',\n",
    "    'Coal': 'Hard coal',\n",
    "    'Lignite': 'Lignite',\n",
    "    'Nuclear': 'Uranium',\n",
    "    'diesel': 'Mineral oil',\n",
    "    'gasoline': 'Mineral oil',\n",
    "    'gas': 'Gas',\n",
    "}\n",
    "\n",
    "cons_vehicle_fuel_t = {key: [0.0 for _ in range(10)] for key in set(fuel_name_translation_dict.values())}\n",
    "\n",
    "dispatch_g = {g: [] for g in G}\n",
    "for t in T:\n",
    "    for g in G:\n",
    "        if g in fuel_name_translation_dict:\n",
    "            key = fuel_name_translation_dict[g]\n",
    "            cons_vehicle_fuel_t[key][t] += pyomo.value(model.x_g_t[g,t]/tech_data_g[(g,'eta_el')])\n",
    "\n",
    "for t in T:\n",
    "    for v in V:\n",
    "        if v in fuel_name_translation_dict:\n",
    "            key = fuel_name_translation_dict[v]\n",
    "            cons_vehicle_fuel_t[key][t] += pyomo.value(model.y_v[v] * vehicle_data_v[(v,'eta_final_to_service')] / 100000 * vehicle_pas_car_t[t])"
   ]
  },
  {
   "cell_type": "code",
   "execution_count": 44,
   "metadata": {},
   "outputs": [
    {
     "data": {
      "text/plain": [
       "Text(0, 0.5, 'Energy Carrier Consumption [MWh]')"
      ]
     },
     "execution_count": 44,
     "metadata": {},
     "output_type": "execute_result"
    },
    {
     "data": {
      "image/png": "[encoded data removed]",
      "text/plain": [
       "<Figure size 432x288 with 1 Axes>"
      ]
     },
     "metadata": {
      "needs_background": "light"
     },
     "output_type": "display_data"
    }
   ],
   "source": [
    "fig2, ax2 = plt.subplots()\n",
    "\n",
    "for key in cons_vehicle_fuel_t:\n",
    "    ax2.plot(T, cons_vehicle_fuel_t[key])\n",
    "ax2.legend(cons_vehicle_fuel_t.keys())\n",
    "ax2.xaxis.set_ticks(T)\n",
    "ax2.set_yscale('log')\n",
    "# ax2.set_ylim(bottom=1)\n",
    "ax2.set_ylabel('Energy Carrier Consumption [MWh]')"
   ]
  }
 ],
 "metadata": {
  "kernelspec": {
   "display_name": "Python 3 (ipykernel)",
   "language": "python",
   "name": "python3"
  },
  "language_info": {
   "codemirror_mode": {
    "name": "ipython",
    "version": 3
   },
   "file_extension": ".py",
   "mimetype": "text/x-python",
   "name": "python",
   "nbconvert_exporter": "python",
   "pygments_lexer": "ipython3",
   "version": "3.9.13"
  }
 },
 "nbformat": 4,
 "nbformat_minor": 2
}
