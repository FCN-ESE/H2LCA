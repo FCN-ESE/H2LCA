{
 "cells": [
  {
   "cell_type": "code",
   "execution_count": 1,
   "metadata": {},
   "outputs": [],
   "source": [
    "import pandas as pd\n",
    "import numpy as np\n",
    "\n",
    "import statsmodels.formula.api as sm"
   ]
  },
  {
   "attachments": {},
   "cell_type": "markdown",
   "metadata": {},
   "source": [
    "# 1. Read microdata"
   ]
  },
  {
   "cell_type": "code",
   "execution_count": 2,
   "metadata": {},
   "outputs": [],
   "source": [
    "microdata = pd.read_excel(\"assets/excel/esa_microdata.xlsx\", index_col=[0])"
   ]
  },
  {
   "cell_type": "code",
   "execution_count": 3,
   "metadata": {},
   "outputs": [
    {
     "data": {
      "text/html": [
       "<div>\n",
       "<style scoped>\n",
       "    .dataframe tbody tr th:only-of-type {\n",
       "        vertical-align: middle;\n",
       "    }\n",
       "\n",
       "    .dataframe tbody tr th {\n",
       "        vertical-align: top;\n",
       "    }\n",
       "\n",
       "    .dataframe thead th {\n",
       "        text-align: right;\n",
       "    }\n",
       "</style>\n",
       "<table border=\"1\" class=\"dataframe\">\n",
       "  <thead>\n",
       "    <tr style=\"text-align: right;\">\n",
       "      <th></th>\n",
       "      <th>stromverbrauch_jahr_kwh</th>\n",
       "      <th>strompreis_cent_kwh</th>\n",
       "      <th>einkommen_gesamt_jahr_eur</th>\n",
       "      <th>anz_pers</th>\n",
       "    </tr>\n",
       "  </thead>\n",
       "  <tbody>\n",
       "    <tr>\n",
       "      <th>0</th>\n",
       "      <td>1172.873881</td>\n",
       "      <td>33.18</td>\n",
       "      <td>19909.542969</td>\n",
       "      <td>2</td>\n",
       "    </tr>\n",
       "    <tr>\n",
       "      <th>1</th>\n",
       "      <td>1296.848970</td>\n",
       "      <td>27.70</td>\n",
       "      <td>21712.037109</td>\n",
       "      <td>2</td>\n",
       "    </tr>\n",
       "    <tr>\n",
       "      <th>2</th>\n",
       "      <td>1232.803083</td>\n",
       "      <td>31.65</td>\n",
       "      <td>22188.449219</td>\n",
       "      <td>2</td>\n",
       "    </tr>\n",
       "    <tr>\n",
       "      <th>3</th>\n",
       "      <td>1314.827897</td>\n",
       "      <td>23.98</td>\n",
       "      <td>19398.164062</td>\n",
       "      <td>2</td>\n",
       "    </tr>\n",
       "    <tr>\n",
       "      <th>4</th>\n",
       "      <td>1337.919699</td>\n",
       "      <td>26.64</td>\n",
       "      <td>22812.015625</td>\n",
       "      <td>2</td>\n",
       "    </tr>\n",
       "    <tr>\n",
       "      <th>...</th>\n",
       "      <td>...</td>\n",
       "      <td>...</td>\n",
       "      <td>...</td>\n",
       "      <td>...</td>\n",
       "    </tr>\n",
       "    <tr>\n",
       "      <th>14092</th>\n",
       "      <td>2127.427962</td>\n",
       "      <td>28.92</td>\n",
       "      <td>13863.910156</td>\n",
       "      <td>4</td>\n",
       "    </tr>\n",
       "    <tr>\n",
       "      <th>14093</th>\n",
       "      <td>2307.423594</td>\n",
       "      <td>28.06</td>\n",
       "      <td>26886.554688</td>\n",
       "      <td>4</td>\n",
       "    </tr>\n",
       "    <tr>\n",
       "      <th>14094</th>\n",
       "      <td>1157.814212</td>\n",
       "      <td>35.89</td>\n",
       "      <td>22467.421875</td>\n",
       "      <td>2</td>\n",
       "    </tr>\n",
       "    <tr>\n",
       "      <th>14095</th>\n",
       "      <td>1137.222560</td>\n",
       "      <td>31.95</td>\n",
       "      <td>15723.962891</td>\n",
       "      <td>2</td>\n",
       "    </tr>\n",
       "    <tr>\n",
       "      <th>14096</th>\n",
       "      <td>898.652885</td>\n",
       "      <td>31.07</td>\n",
       "      <td>23646.125000</td>\n",
       "      <td>1</td>\n",
       "    </tr>\n",
       "  </tbody>\n",
       "</table>\n",
       "<p>14097 rows × 4 columns</p>\n",
       "</div>"
      ],
      "text/plain": [
       "       stromverbrauch_jahr_kwh  strompreis_cent_kwh  \\\n",
       "0                  1172.873881                33.18   \n",
       "1                  1296.848970                27.70   \n",
       "2                  1232.803083                31.65   \n",
       "3                  1314.827897                23.98   \n",
       "4                  1337.919699                26.64   \n",
       "...                        ...                  ...   \n",
       "14092              2127.427962                28.92   \n",
       "14093              2307.423594                28.06   \n",
       "14094              1157.814212                35.89   \n",
       "14095              1137.222560                31.95   \n",
       "14096               898.652885                31.07   \n",
       "\n",
       "       einkommen_gesamt_jahr_eur  anz_pers  \n",
       "0                   19909.542969         2  \n",
       "1                   21712.037109         2  \n",
       "2                   22188.449219         2  \n",
       "3                   19398.164062         2  \n",
       "4                   22812.015625         2  \n",
       "...                          ...       ...  \n",
       "14092               13863.910156         4  \n",
       "14093               26886.554688         4  \n",
       "14094               22467.421875         2  \n",
       "14095               15723.962891         2  \n",
       "14096               23646.125000         1  \n",
       "\n",
       "[14097 rows x 4 columns]"
      ]
     },
     "metadata": {},
     "output_type": "display_data"
    }
   ],
   "source": [
    "display(microdata)"
   ]
  },
  {
   "attachments": {},
   "cell_type": "markdown",
   "metadata": {},
   "source": [
    "# 2. Divide into households groups by household income"
   ]
  },
  {
   "cell_type": "code",
   "execution_count": 4,
   "metadata": {},
   "outputs": [],
   "source": [
    "# The total number of households is equal to the number of rows in the microdata set\n",
    "number_of_households = len(microdata.index)"
   ]
  },
  {
   "cell_type": "code",
   "execution_count": 5,
   "metadata": {},
   "outputs": [],
   "source": [
    "# Calculate the median income for the calculation of poverty indicators\n",
    "median_income = microdata[\"einkommen_gesamt_jahr_eur\"].median()"
   ]
  },
  {
   "attachments": {},
   "cell_type": "markdown",
   "metadata": {},
   "source": [
    "### Low income households"
   ]
  },
  {
   "cell_type": "code",
   "execution_count": 6,
   "metadata": {},
   "outputs": [],
   "source": [
    "low_income_threshold = 1/3  # Households in the bottom third of the income distribution\"\n",
    "\n",
    "# Sort the values by income and select the household income that is located at the threshold\n",
    "low_income_threshold_income_eur = microdata.sort_values(by=\"einkommen_gesamt_jahr_eur\").iloc[int(low_income_threshold*number_of_households)][\"einkommen_gesamt_jahr_eur\"]"
   ]
  },
  {
   "attachments": {},
   "cell_type": "markdown",
   "metadata": {},
   "source": [
    "# 3. Calculate price and income elasticities of demand"
   ]
  },
  {
   "attachments": {},
   "cell_type": "markdown",
   "metadata": {},
   "source": [
    "#### Define regression equation"
   ]
  },
  {
   "cell_type": "code",
   "execution_count": 7,
   "metadata": {},
   "outputs": [],
   "source": [
    "regression_formula = \"np.log(stromverbrauch_jahr_kwh) ~ np.log(strompreis_cent_kwh) + np.log(einkommen_gesamt_jahr_eur) + anz_pers\""
   ]
  },
  {
   "attachments": {},
   "cell_type": "markdown",
   "metadata": {},
   "source": [
    "#### Create regression model"
   ]
  },
  {
   "cell_type": "code",
   "execution_count": 8,
   "metadata": {},
   "outputs": [],
   "source": [
    "ols_model = sm.ols(formula=regression_formula, data=microdata)"
   ]
  },
  {
   "attachments": {},
   "cell_type": "markdown",
   "metadata": {},
   "source": [
    "#### Fit model to data"
   ]
  },
  {
   "cell_type": "code",
   "execution_count": 9,
   "metadata": {},
   "outputs": [],
   "source": [
    "ols_model_results = ols_model.fit()"
   ]
  },
  {
   "attachments": {},
   "cell_type": "markdown",
   "metadata": {},
   "source": [
    "#### Show regression statistics"
   ]
  },
  {
   "cell_type": "code",
   "execution_count": 10,
   "metadata": {},
   "outputs": [
    {
     "data": {
      "text/html": [
       "<table class=\"simpletable\">\n",
       "<caption>OLS Regression Results</caption>\n",
       "<tr>\n",
       "  <th>Dep. Variable:</th>    <td>np.log(stromverbrauch_jahr_kwh)</td> <th>  R-squared:         </th> <td>   0.778</td> \n",
       "</tr>\n",
       "<tr>\n",
       "  <th>Model:</th>                          <td>OLS</td>               <th>  Adj. R-squared:    </th> <td>   0.778</td> \n",
       "</tr>\n",
       "<tr>\n",
       "  <th>Method:</th>                    <td>Least Squares</td>          <th>  F-statistic:       </th> <td>1.650e+04</td>\n",
       "</tr>\n",
       "<tr>\n",
       "  <th>Date:</th>                    <td>Tue, 26 Jul 2022</td>         <th>  Prob (F-statistic):</th>  <td>  0.00</td>  \n",
       "</tr>\n",
       "<tr>\n",
       "  <th>Time:</th>                        <td>19:04:17</td>             <th>  Log-Likelihood:    </th> <td>  2338.4</td> \n",
       "</tr>\n",
       "<tr>\n",
       "  <th>No. Observations:</th>             <td> 14097</td>              <th>  AIC:               </th> <td>  -4669.</td> \n",
       "</tr>\n",
       "<tr>\n",
       "  <th>Df Residuals:</th>                 <td> 14093</td>              <th>  BIC:               </th> <td>  -4639.</td> \n",
       "</tr>\n",
       "<tr>\n",
       "  <th>Df Model:</th>                     <td>     3</td>              <th>                     </th>     <td> </td>    \n",
       "</tr>\n",
       "<tr>\n",
       "  <th>Covariance Type:</th>             <td>nonrobust</td>            <th>                     </th>     <td> </td>    \n",
       "</tr>\n",
       "</table>\n",
       "<table class=\"simpletable\">\n",
       "<tr>\n",
       "                  <td></td>                     <th>coef</th>     <th>std err</th>      <th>t</th>      <th>P>|t|</th>  <th>[0.025</th>    <th>0.975]</th>  \n",
       "</tr>\n",
       "<tr>\n",
       "  <th>Intercept</th>                         <td>    5.5924</td> <td>    0.045</td> <td>  123.411</td> <td> 0.000</td> <td>    5.504</td> <td>    5.681</td>\n",
       "</tr>\n",
       "<tr>\n",
       "  <th>np.log(strompreis_cent_kwh)</th>       <td>   -0.3859</td> <td>    0.012</td> <td>  -32.357</td> <td> 0.000</td> <td>   -0.409</td> <td>   -0.363</td>\n",
       "</tr>\n",
       "<tr>\n",
       "  <th>np.log(einkommen_gesamt_jahr_eur)</th> <td>    0.2571</td> <td>    0.002</td> <td>  132.550</td> <td> 0.000</td> <td>    0.253</td> <td>    0.261</td>\n",
       "</tr>\n",
       "<tr>\n",
       "  <th>anz_pers</th>                          <td>    0.2182</td> <td>    0.001</td> <td>  180.030</td> <td> 0.000</td> <td>    0.216</td> <td>    0.221</td>\n",
       "</tr>\n",
       "</table>\n",
       "<table class=\"simpletable\">\n",
       "<tr>\n",
       "  <th>Omnibus:</th>       <td>4688.283</td> <th>  Durbin-Watson:     </th> <td>   0.953</td> \n",
       "</tr>\n",
       "<tr>\n",
       "  <th>Prob(Omnibus):</th>  <td> 0.000</td>  <th>  Jarque-Bera (JB):  </th> <td>20467.459</td>\n",
       "</tr>\n",
       "<tr>\n",
       "  <th>Skew:</th>           <td> 1.582</td>  <th>  Prob(JB):          </th> <td>    0.00</td> \n",
       "</tr>\n",
       "<tr>\n",
       "  <th>Kurtosis:</th>       <td> 7.984</td>  <th>  Cond. No.          </th> <td>    301.</td> \n",
       "</tr>\n",
       "</table><br/><br/>Notes:<br/>[1] Standard Errors assume that the covariance matrix of the errors is correctly specified."
      ],
      "text/plain": [
       "<class 'statsmodels.iolib.summary.Summary'>\n",
       "\"\"\"\n",
       "                                   OLS Regression Results                                  \n",
       "===========================================================================================\n",
       "Dep. Variable:     np.log(stromverbrauch_jahr_kwh)   R-squared:                       0.778\n",
       "Model:                                         OLS   Adj. R-squared:                  0.778\n",
       "Method:                              Least Squares   F-statistic:                 1.650e+04\n",
       "Date:                             Tue, 26 Jul 2022   Prob (F-statistic):               0.00\n",
       "Time:                                     19:04:17   Log-Likelihood:                 2338.4\n",
       "No. Observations:                            14097   AIC:                            -4669.\n",
       "Df Residuals:                                14093   BIC:                            -4639.\n",
       "Df Model:                                        3                                         \n",
       "Covariance Type:                         nonrobust                                         \n",
       "=====================================================================================================\n",
       "                                        coef    std err          t      P>|t|      [0.025      0.975]\n",
       "-----------------------------------------------------------------------------------------------------\n",
       "Intercept                             5.5924      0.045    123.411      0.000       5.504       5.681\n",
       "np.log(strompreis_cent_kwh)          -0.3859      0.012    -32.357      0.000      -0.409      -0.363\n",
       "np.log(einkommen_gesamt_jahr_eur)     0.2571      0.002    132.550      0.000       0.253       0.261\n",
       "anz_pers                              0.2182      0.001    180.030      0.000       0.216       0.221\n",
       "==============================================================================\n",
       "Omnibus:                     4688.283   Durbin-Watson:                   0.953\n",
       "Prob(Omnibus):                  0.000   Jarque-Bera (JB):            20467.459\n",
       "Skew:                           1.582   Prob(JB):                         0.00\n",
       "Kurtosis:                       7.984   Cond. No.                         301.\n",
       "==============================================================================\n",
       "\n",
       "Notes:\n",
       "[1] Standard Errors assume that the covariance matrix of the errors is correctly specified.\n",
       "\"\"\""
      ]
     },
     "metadata": {},
     "output_type": "display_data"
    }
   ],
   "source": [
    "display(ols_model_results.summary())"
   ]
  },
  {
   "attachments": {},
   "cell_type": "markdown",
   "metadata": {},
   "source": [
    "# 4. Calculate impact of relief measures"
   ]
  },
  {
   "cell_type": "code",
   "execution_count": null,
   "metadata": {},
   "outputs": [],
   "source": [
    "price_discount_cent_kwh = -5 # €-ct/kWh"
   ]
  },
  {
   "cell_type": "code",
   "execution_count": null,
   "metadata": {},
   "outputs": [],
   "source": [
    "electricity_compensation_eur = 350  # €/a"
   ]
  },
  {
   "attachments": {},
   "cell_type": "markdown",
   "metadata": {},
   "source": [
    "### For the case of a general price discount"
   ]
  },
  {
   "cell_type": "code",
   "execution_count": null,
   "metadata": {},
   "outputs": [],
   "source": [
    "def calc_consumption_change_price_discount(old_consumption, price_elasticity, original_price, price_discount_cent_kwh):\n",
    "    new_price = original_price + price_discount_cent_kwh\n",
    "    return np.exp(price_elasticity*(np.log(new_price)-np.log(original_price))+np.log(old_consumption))"
   ]
  },
  {
   "cell_type": "code",
   "execution_count": null,
   "metadata": {},
   "outputs": [],
   "source": [
    "price_elasticity = -0.3859\n",
    "microdata[\"stromverbrauch_jahr_preisrabatt_kwh\"] = calc_consumption_change_price_discount(microdata[\"stromverbrauch_jahr_kwh\"], price_elasticity, microdata[\"strompreis_cent_kwh\"], price_discount_cent_kwh)"
   ]
  },
  {
   "attachments": {},
   "cell_type": "markdown",
   "metadata": {},
   "source": [
    "### For the case of an electricity cost compensation for low-income households"
   ]
  },
  {
   "cell_type": "code",
   "execution_count": null,
   "metadata": {},
   "outputs": [],
   "source": [
    "def calc_consumption_change_compensation_payment(old_consumption, income_elasticity, old_income, new_income):\n",
    "    return np.exp(income_elasticity*(np.log(new_income.astype(float))-np.log(old_income.astype(float)))+np.log(old_consumption.astype(float)))"
   ]
  },
  {
   "cell_type": "code",
   "execution_count": null,
   "metadata": {},
   "outputs": [],
   "source": [
    "microdata[\"einkommen_gesamt_jahr_mit_zuschuss_eur\"] = microdata[\"einkommen_gesamt_jahr_eur\"]\n",
    "microdata.loc[microdata[\"einkommen_gesamt_jahr_eur\"] <= low_income_threshold_income_eur, \"einkommen_gesamt_jahr_mit_zuschuss_eur\"] += electricity_compensation_eur"
   ]
  },
  {
   "cell_type": "code",
   "execution_count": null,
   "metadata": {},
   "outputs": [],
   "source": [
    "income_elasticity =  0.2571\n",
    "microdata[\"stromverbrauch_jahr_mit_zuschuss_kwh\"] = calc_consumption_change_compensation_payment(microdata[\"stromverbrauch_jahr_kwh\"], income_elasticity, microdata[\"einkommen_gesamt_jahr_eur\"], microdata[\"einkommen_gesamt_jahr_mit_zuschuss_eur\"])"
   ]
  },
  {
   "attachments": {},
   "cell_type": "markdown",
   "metadata": {},
   "source": [
    "# 5. Analyze impact of relief measures"
   ]
  },
  {
   "attachments": {},
   "cell_type": "markdown",
   "metadata": {},
   "source": [
    "### Without relief measures"
   ]
  },
  {
   "cell_type": "code",
   "execution_count": null,
   "metadata": {},
   "outputs": [],
   "source": [
    "microdata[\"anteil_stromkosten\"] = microdata[\"stromverbrauch_jahr_kwh\"] * (microdata[\"strompreis_cent_kwh\"]/100) / microdata[\"einkommen_gesamt_jahr_eur\"]"
   ]
  },
  {
   "cell_type": "code",
   "execution_count": null,
   "metadata": {},
   "outputs": [],
   "source": [
    "print(\"Durchschnittl. Anteil der Stromausgaben am Einkommen:\",round(microdata[\"anteil_stromkosten\"].mean()*100,2), \"%\")"
   ]
  },
  {
   "cell_type": "code",
   "execution_count": null,
   "metadata": {},
   "outputs": [],
   "source": [
    "print(\"Gesamte Stromnachfrage:\",round((microdata[\"stromverbrauch_jahr_kwh\"]/1e6).sum(),2), \"GWh\")"
   ]
  },
  {
   "cell_type": "code",
   "execution_count": null,
   "metadata": {},
   "outputs": [],
   "source": [
    "print(\"Armutsgefährdete Haushalte:\",round(len(microdata.loc[microdata[\"einkommen_gesamt_jahr_eur\"] <= 0.6*median_income].index)/number_of_households*100,2), \"%\")"
   ]
  },
  {
   "attachments": {},
   "cell_type": "markdown",
   "metadata": {},
   "source": [
    "### With price discount"
   ]
  },
  {
   "cell_type": "code",
   "execution_count": null,
   "metadata": {},
   "outputs": [],
   "source": [
    "microdata[\"anteil_stromkosten_preisrabatt\"] = microdata[\"stromverbrauch_jahr_preisrabatt_kwh\"] * ((microdata[\"strompreis_cent_kwh\"]+price_discount_cent_kwh)/100) / microdata[\"einkommen_gesamt_jahr_eur\"]"
   ]
  },
  {
   "cell_type": "code",
   "execution_count": null,
   "metadata": {},
   "outputs": [],
   "source": [
    "microdata[\"einkommen_gesamt_jahr_preisrabatt_eur\"] = microdata[\"einkommen_gesamt_jahr_eur\"] + microdata[\"stromverbrauch_jahr_kwh\"] * microdata[\"strompreis_cent_kwh\"]/100 - microdata[\"stromverbrauch_jahr_preisrabatt_kwh\"] * (microdata[\"strompreis_cent_kwh\"]+price_discount_cent_kwh)/100"
   ]
  },
  {
   "cell_type": "code",
   "execution_count": null,
   "metadata": {},
   "outputs": [],
   "source": [
    "print(\"Durchschnittl. Anteil der Stromausgaben am Einkommen:\",round(microdata[\"anteil_stromkosten_preisrabatt\"].mean()*100,2), \"%\")"
   ]
  },
  {
   "cell_type": "code",
   "execution_count": null,
   "metadata": {},
   "outputs": [],
   "source": [
    "print(\"Gesamte Stromnachfrage:\",round((microdata[\"stromverbrauch_jahr_preisrabatt_kwh\"]/1e6).sum(),2), \"GWh\")"
   ]
  },
  {
   "cell_type": "code",
   "execution_count": null,
   "metadata": {},
   "outputs": [],
   "source": [
    "print(\"Armutsgefährdete Haushalte:\",round(len(microdata.loc[microdata[\"einkommen_gesamt_jahr_preisrabatt_eur\"] <= 0.6*median_income].index)/number_of_households*100,2), \"%\")"
   ]
  },
  {
   "cell_type": "code",
   "execution_count": null,
   "metadata": {},
   "outputs": [],
   "source": [
    "print(\"Gesamtkosten der Maßnahme:\",round(((microdata[\"stromverbrauch_jahr_preisrabatt_kwh\"]*-price_discount_cent_kwh)/100/1e6).sum(),2), \"Mil. €\")"
   ]
  },
  {
   "attachments": {},
   "cell_type": "markdown",
   "metadata": {},
   "source": [
    "### With compensation payment for low-income households"
   ]
  },
  {
   "cell_type": "code",
   "execution_count": null,
   "metadata": {},
   "outputs": [],
   "source": [
    "microdata[\"anteil_stromkosten_mit_zuschuss\"] = microdata[\"stromverbrauch_jahr_mit_zuschuss_kwh\"] * (microdata[\"strompreis_cent_kwh\"]/100) / microdata[\"einkommen_gesamt_jahr_mit_zuschuss_eur\"]"
   ]
  },
  {
   "cell_type": "code",
   "execution_count": null,
   "metadata": {},
   "outputs": [],
   "source": [
    "print(\"Durchschnittl. Anteil der Stromausgaben am Einkommen:\",round(microdata[\"anteil_stromkosten_mit_zuschuss\"].mean()*100,2), \"%\")"
   ]
  },
  {
   "cell_type": "code",
   "execution_count": null,
   "metadata": {},
   "outputs": [],
   "source": [
    "print(\"Gesamte Stromnachfrage:\",round((microdata[\"stromverbrauch_jahr_mit_zuschuss_kwh\"]/1e6).sum(),2), \"GWh\")"
   ]
  },
  {
   "cell_type": "code",
   "execution_count": null,
   "metadata": {},
   "outputs": [],
   "source": [
    "print(\"Armutsgefährdete Haushalte:\",round(len(microdata.loc[microdata[\"einkommen_gesamt_jahr_mit_zuschuss_eur\"] <= 0.6*median_income].index)/number_of_households*100,2), \"%\")"
   ]
  },
  {
   "cell_type": "code",
   "execution_count": null,
   "metadata": {},
   "outputs": [],
   "source": [
    "print(\"Gesamtkosten der Maßnahme:\",round((1/3)*number_of_households*electricity_compensation_eur/1e6,2), \"Mil. €\")"
   ]
  }
 ],
 "metadata": {
  "kernelspec": {
   "display_name": "TESA",
   "language": "python",
   "name": "tesa"
  },
  "language_info": {
   "codemirror_mode": {
    "name": "ipython",
    "version": 3
   },
   "file_extension": ".py",
   "mimetype": "text/x-python",
   "name": "python",
   "nbconvert_exporter": "python",
   "pygments_lexer": "ipython3",
   "version": "3.7.7"
  }
 },
 "nbformat": 4,
 "nbformat_minor": 4
}
