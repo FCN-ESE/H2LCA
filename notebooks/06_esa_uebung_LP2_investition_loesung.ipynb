{
 "cells": [
  {
   "cell_type": "code",
   "execution_count": null,
   "metadata": {},
   "outputs": [],
   "source": [
    "from __future__ import division\n",
    "import pyomo.environ as pyomo\n",
    "import pyomo.opt as opt\n",
    "\n",
    "import pandas as pd\n",
    "\n",
    "import matplotlib.pyplot as plt"
   ]
  },
  {
   "cell_type": "markdown",
   "metadata": {},
   "source": [
    "# Welcome to the TESA programming exercise on basic dispatch LP models"
   ]
  },
  {
   "cell_type": "markdown",
   "metadata": {},
   "source": [
    "## 1. Prepare the input data for the LP model"
   ]
  },
  {
   "cell_type": "code",
   "execution_count": null,
   "metadata": {},
   "outputs": [],
   "source": [
    "T = [0,1,2,3,4,5,6,7,8,9] # set of timesteps\n",
    "G = ['CCGT','GT','Coal','Lignite','Nuclear'] # generator technologies"
   ]
  },
  {
   "cell_type": "code",
   "execution_count": null,
   "metadata": {},
   "outputs": [],
   "source": [
    "# constant price for CO2 emissions [€/t CO2]\n",
    "CO2_PRICE = 20"
   ]
  },
  {
   "cell_type": "code",
   "execution_count": null,
   "metadata": {},
   "outputs": [],
   "source": [
    "# constant length of timesteps\n",
    "LENGTH = 876"
   ]
  },
  {
   "cell_type": "code",
   "execution_count": null,
   "metadata": {},
   "outputs": [],
   "source": [
    "# convention:   tech_data[(g,'invest')] = investment costs of technology g [€/kW_el]\n",
    "#               tech_data[(g,'eta_el')] = efficiency factor of technology g [1]\n",
    "#               tech_data[(g,'fuel price')]= fuel price of technology g [€/MWh_thermal]\n",
    "#               tech_data[(g,'other variable costs')] = other variable costs of technology g [€/MWh_el]\n",
    "#               tech_data[(g,'emission factor')] = emission factor of technology g [kg CO2/MWh_thermal]\n",
    "tech_data_g = {('CCGT','invest'):    500,('CCGT','RBF'):    9.8,('CCGT','eta_el'):   0.55,('CCGT','fuel price'):   28.00,('CCGT','other variable costs'):    5.23,('CCGT','emissions'):   204.8, \n",
    "               ('GT','invest'):      450,('GT','RBF'):      9.8,('GT','eta_el'):     0.37,('GT','fuel price'):     28.00,('GT','other variable costs'):      3.60,('GT','emissions'):     204.8, \n",
    "               ('Coal','invest'):   1300,('Coal','RBF'):   11.3,('Coal','eta_el'):   0.42,('Coal','fuel price'):   10.47,('Coal','other variable costs'):    9.70,('Coal','emissions'):   342.0,\n",
    "               ('Lignite','invest'):1400,('Lignite','RBF'):11.3,('Lignite','eta_el'):0.39,('Lignite','fuel price'): 7.50,('Lignite','other variable costs'):13.44,('Lignite','emissions'):400.0, \n",
    "               ('Nuclear','invest'):3000,('Nuclear','RBF'):11.9,('Nuclear','eta_el'):0.35,('Nuclear','fuel price'): 3.47,('Nuclear','other variable costs'): 7.46,('Nuclear','emissions'):  0.0}"
   ]
  },
  {
   "cell_type": "code",
   "execution_count": null,
   "metadata": {},
   "outputs": [],
   "source": [
    "# convention: load_t[t] = constant load during timestep t [MW]\n",
    "load_t = [73409,69648,66632,63454,59526,55367,51970,49045,46030,41466]"
   ]
  },
  {
   "cell_type": "code",
   "execution_count": null,
   "metadata": {},
   "outputs": [],
   "source": [
    "# peak load [MW]\n",
    "peak_load = 79487"
   ]
  },
  {
   "cell_type": "markdown",
   "metadata": {},
   "source": [
    "## 2. Build the LP model"
   ]
  },
  {
   "cell_type": "code",
   "execution_count": null,
   "metadata": {},
   "outputs": [],
   "source": [
    "model = pyomo.ConcreteModel()"
   ]
  },
  {
   "cell_type": "markdown",
   "metadata": {},
   "source": [
    "### 2.1 Define Sets"
   ]
  },
  {
   "cell_type": "code",
   "execution_count": null,
   "metadata": {},
   "outputs": [],
   "source": [
    "model.T = pyomo.Set(initialize=T)\n",
    "model.G = pyomo.Set(initialize=G)"
   ]
  },
  {
   "cell_type": "markdown",
   "metadata": {},
   "source": [
    "### 2.2 Define Variables"
   ]
  },
  {
   "cell_type": "code",
   "execution_count": null,
   "metadata": {},
   "outputs": [],
   "source": [
    "model.x_g_t = pyomo.Var(model.G, model.T, domain=pyomo.NonNegativeReals)    # dispatched power of technology g during hour t [MW]\n",
    "model.y_g = pyomo.Var(model.G, domain=pyomo.NonNegativeReals)               # installed capacity per technology g [MW]"
   ]
  },
  {
   "cell_type": "markdown",
   "metadata": {},
   "source": [
    "### 2.3 Define Constraints"
   ]
  },
  {
   "cell_type": "code",
   "execution_count": null,
   "metadata": {},
   "outputs": [],
   "source": [
    "# cover demand\n",
    "def define_demand_restriction(model, t):\n",
    "    return sum(model.x_g_t[g, t] for g in model.G) == load_t[t]\n",
    "model.demand_restriction = pyomo.Constraint(model.T, rule=define_demand_restriction)"
   ]
  },
  {
   "cell_type": "code",
   "execution_count": null,
   "metadata": {},
   "outputs": [],
   "source": [
    "# cover peak load\n",
    "def define_peak_load_restriction(model):\n",
    "    return sum(model.y_g[g] for g in model.G) == peak_load\n",
    "model.peak_load_restriction = pyomo.Constraint(rule=define_peak_load_restriction)"
   ]
  },
  {
   "cell_type": "code",
   "execution_count": null,
   "metadata": {},
   "outputs": [],
   "source": [
    "# capacity restriciton and variable connection\n",
    "def define_capacity_restriciton(model, g, t):\n",
    "    return model.x_g_t[g,t] <= model.y_g[g]\n",
    "model.capacity_restriciton = pyomo.Constraint(model.G, model.T, rule=define_capacity_restriciton)"
   ]
  },
  {
   "cell_type": "code",
   "execution_count": null,
   "metadata": {},
   "outputs": [],
   "source": [
    "# no use of nuclear power plants\n",
    "def define_nuclear_restriciton(model):\n",
    "    return model.y_g['Nuclear'] == 0\n",
    "model.nuclear_restriciton = pyomo.Constraint(rule=define_nuclear_restriciton)"
   ]
  },
  {
   "cell_type": "markdown",
   "metadata": {},
   "source": [
    "### 2.4 Define Objective Function"
   ]
  },
  {
   "cell_type": "code",
   "execution_count": null,
   "metadata": {},
   "outputs": [],
   "source": [
    "# define objective function (i.e. dispatch costs)\n",
    "def define_objective_function(model):\n",
    "    return sum(\n",
    "                tech_data_g[(g,'invest')] * 1000 / tech_data_g[(g,'RBF')] * \\\n",
    "                model.y_g[g] \n",
    "                for g in model.G\n",
    "              ) + \\\n",
    "           sum(\n",
    "                (\n",
    "                    (tech_data_g[(g,'fuel price')] + tech_data_g[(g,'emissions')] * (CO2_PRICE/1000)) / \n",
    "                    tech_data_g[(g,'eta_el')] + \\\n",
    "                    tech_data_g[(g,'other variable costs')] \\\n",
    "                ) * \\\n",
    "                model.x_g_t[g,t] * LENGTH \n",
    "                for g in model.G for t in model.T\n",
    "              )\n",
    "model.Obj = pyomo.Objective(rule=define_objective_function, sense=pyomo.minimize)"
   ]
  },
  {
   "cell_type": "markdown",
   "metadata": {},
   "source": [
    "### 2.5 Write LP to File"
   ]
  },
  {
   "cell_type": "code",
   "execution_count": null,
   "metadata": {},
   "outputs": [],
   "source": [
    "model.write('output/invest/08_tesa_uebung_LP2_investition_loesung.lp', io_options={'symbolic_solver_labels':True})"
   ]
  },
  {
   "cell_type": "markdown",
   "metadata": {},
   "source": [
    "### 2.6 Initialize the storage of dual variables of constraints"
   ]
  },
  {
   "cell_type": "code",
   "execution_count": null,
   "metadata": {},
   "outputs": [],
   "source": [
    "model.dual = pyomo.Suffix(direction=pyomo.Suffix.IMPORT)"
   ]
  },
  {
   "cell_type": "markdown",
   "metadata": {},
   "source": [
    "## 3. Solve the LP model"
   ]
  },
  {
   "cell_type": "code",
   "execution_count": null,
   "metadata": {},
   "outputs": [],
   "source": [
    "optimizer = opt.SolverFactory('glpk')\n",
    "solved_model = optimizer.solve(model, tee=True)"
   ]
  },
  {
   "cell_type": "markdown",
   "metadata": {},
   "source": [
    "## 4. Get the results and statistics of the solved LP model"
   ]
  },
  {
   "cell_type": "markdown",
   "metadata": {},
   "source": [
    "### 4.1 Print optimal objective value"
   ]
  },
  {
   "cell_type": "code",
   "execution_count": null,
   "metadata": {},
   "outputs": [],
   "source": [
    "print(\"Optimal value: %.2f Mio. €\" % (round(model.Obj.expr()/1e6,2)))"
   ]
  },
  {
   "cell_type": "markdown",
   "metadata": {},
   "source": [
    "### 4.2 Print optimal invests"
   ]
  },
  {
   "cell_type": "code",
   "execution_count": null,
   "metadata": {},
   "outputs": [],
   "source": [
    "EPS = 1e-6\n",
    "\n",
    "for g in G:\n",
    "    if pyomo.value(model.y_g[g]) > EPS: \n",
    "        print('Install %i MW of technology %s' % (pyomo.value(model.y_g[g]),g))"
   ]
  },
  {
   "cell_type": "markdown",
   "metadata": {},
   "source": [
    "### 4.3 Print optimal dispatch path"
   ]
  },
  {
   "cell_type": "code",
   "execution_count": null,
   "metadata": {},
   "outputs": [],
   "source": [
    "for g in G:\n",
    "    for t in T:\n",
    "        if pyomo.value(model.x_g_t[g,t]) > EPS:\n",
    "            print(\"Dispatch %i TWh of technology %s in timestep %s\" % (pyomo.value(model.x_g_t[g,t])*LENGTH/1e6,g,t))        "
   ]
  },
  {
   "cell_type": "markdown",
   "metadata": {},
   "source": [
    "### 4.4 Calculate full load hours"
   ]
  },
  {
   "cell_type": "code",
   "execution_count": null,
   "metadata": {},
   "outputs": [],
   "source": [
    "full_load_hours = {}\n",
    "for g in G:\n",
    "    if pyomo.value(model.y_g[g]) > EPS:\n",
    "        full_load_hours[g] = sum(pyomo.value(model.x_g_t[g,t]) * LENGTH for t in T) / pyomo.value(model.y_g[g])\n",
    "        print('Full load hours of technology %s: %i h' % (g,full_load_hours[g]))\n",
    "    else:\n",
    "        print('Technology %s is not installed' % g)"
   ]
  },
  {
   "cell_type": "markdown",
   "metadata": {},
   "source": [
    "### 4.5 Calculate total emissions"
   ]
  },
  {
   "cell_type": "code",
   "execution_count": null,
   "metadata": {},
   "outputs": [],
   "source": [
    "total_emissions = {}\n",
    "for g in G:\n",
    "    total_emissions[g] = sum(pyomo.value(model.x_g_t[g,t]) * LENGTH * (tech_data_g[(g,'emissions')]) / tech_data_g[(g,'eta_el')] for t in T) / 10**9 # unit: Mt\n",
    "    print('Total emissions of technology %s: %i Mt' % (g,total_emissions[g]))\n",
    "\n",
    "print('Overall emissions: %i Mt' % sum(total_emissions[g] for g in G))"
   ]
  },
  {
   "cell_type": "markdown",
   "metadata": {},
   "source": [
    "### 4.6 Print electricity prices as shadow prices of the demand constraint"
   ]
  },
  {
   "cell_type": "code",
   "execution_count": null,
   "metadata": {},
   "outputs": [],
   "source": [
    "dual_values = pd.Series(list(model.dual.values()), index=pd.Index(list(model.dual.keys())))\n",
    "electricity_shadow_prices = pd.Series(list(model.demand_restriction.values()), index=pd.Index(list(model.demand_restriction.keys()))).map(dual_values).divide(LENGTH)"
   ]
  },
  {
   "cell_type": "code",
   "execution_count": null,
   "metadata": {},
   "outputs": [],
   "source": [
    "for t in T:\n",
    "    print(\"Electricity price during t= \"+str(t)+\": \"+str(round(electricity_shadow_prices[t],1))+' €/MWh')"
   ]
  },
  {
   "cell_type": "markdown",
   "metadata": {},
   "source": [
    "### 4.7 calculate total profit per technology --> contribution - fixed costs"
   ]
  },
  {
   "cell_type": "code",
   "execution_count": null,
   "metadata": {},
   "outputs": [],
   "source": [
    "variable_costs = {}\n",
    "contribution = {}\n",
    "fixed_costs ={}\n",
    "profit = {}\n",
    "for g in G:\n",
    "    variable_costs[g]       = (tech_data_g[(g,'fuel price')] + tech_data_g[(g,'emissions')]*CO2_PRICE/1000)/tech_data_g[(g,'eta_el')] + tech_data_g[(g,'other variable costs')]\n",
    "    contribution[g]         = sum ((electricity_shadow_prices[t]-variable_costs[g])*pyomo.value(model.x_g_t[g,t])*LENGTH for t in T)\n",
    "    fixed_costs[g]          = pyomo.value(model.y_g[g])*tech_data_g[(g,'invest')]*1000/tech_data_g[(g,'RBF')]\n",
    "    profit[g]               = (contribution[g]-fixed_costs[g])/1e6\n",
    "    print('Total profit of technology %s: %i Mio €' % (g,profit[g]))"
   ]
  },
  {
   "cell_type": "markdown",
   "metadata": {},
   "source": [
    "## 5. Visualize results"
   ]
  },
  {
   "cell_type": "markdown",
   "metadata": {},
   "source": [
    "### 5.1 Create pie chart of installed capacities"
   ]
  },
  {
   "cell_type": "code",
   "execution_count": null,
   "metadata": {},
   "outputs": [],
   "source": [
    "sizes = []\n",
    "labels = []\n",
    "for g in G:\n",
    "    if pyomo.value(model.y_g[g]) > EPS: \n",
    "        sizes.append(pyomo.value(model.y_g[g]))\n",
    "        labels.append(g)\n",
    "total = sum(sizes)"
   ]
  },
  {
   "cell_type": "code",
   "execution_count": null,
   "metadata": {},
   "outputs": [],
   "source": [
    "fig1, ax1 = plt.subplots()\n",
    "\n",
    "ax1.pie(sizes,labels=labels, autopct=lambda p: '{:.0f}'.format(p * total / 100)) # autopct is used for automatic labelling, no need to understand all coding details here\n",
    "ax1.axis('equal')  # Equal aspect ratio ensures that pie is drawn as a circle"
   ]
  },
  {
   "cell_type": "markdown",
   "metadata": {},
   "source": [
    "### 5.2 Create line chart of dispatched power"
   ]
  },
  {
   "cell_type": "code",
   "execution_count": null,
   "metadata": {},
   "outputs": [],
   "source": [
    "dispatch_g = {g: [] for g in G}\n",
    "for t in T:\n",
    "    for g in G:\n",
    "        dispatch_g[g].append(pyomo.value(model.x_g_t[g,t]))"
   ]
  },
  {
   "cell_type": "code",
   "execution_count": null,
   "metadata": {},
   "outputs": [],
   "source": [
    "fig2, ax2 = plt.subplots()\n",
    "\n",
    "for g in G:\n",
    "    ax2.plot(T, dispatch_g[g])\n",
    "ax2.legend(G)\n",
    "ax2.xaxis.set_ticks(T)\n",
    "ax2.set_ylabel('Dispatched Power [MW]')"
   ]
  }
 ],
 "metadata": {
  "kernelspec": {
   "display_name": "Python 3 (ipykernel)",
   "language": "python",
   "name": "python3"
  },
  "language_info": {
   "codemirror_mode": {
    "name": "ipython",
    "version": 3
   },
   "file_extension": ".py",
   "mimetype": "text/x-python",
   "name": "python",
   "nbconvert_exporter": "python",
   "pygments_lexer": "ipython3",
   "version": "3.10.2"
  }
 },
 "nbformat": 4,
 "nbformat_minor": 2
}
