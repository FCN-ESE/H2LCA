{
 "cells": [
  {
   "cell_type": "code",
   "execution_count": null,
   "metadata": {},
   "outputs": [],
   "source": [
    "import pandas as pd\n",
    "import numpy as np\n",
    "\n",
    "import statsmodels.formula.api as sm"
   ]
  },
  {
   "attachments": {},
   "cell_type": "markdown",
   "metadata": {},
   "source": [
    "# 1. Read microdata"
   ]
  },
  {
   "cell_type": "code",
   "execution_count": null,
   "metadata": {},
   "outputs": [],
   "source": [
    "microdata = pd.read_excel(\"assets/excel/esa_microdata.xlsx\", index_col=[0])"
   ]
  },
  {
   "cell_type": "code",
   "execution_count": null,
   "metadata": {},
   "outputs": [],
   "source": [
    "display(microdata)"
   ]
  },
  {
   "attachments": {},
   "cell_type": "markdown",
   "metadata": {},
   "source": [
    "# 2. Divide into households groups by household income"
   ]
  },
  {
   "cell_type": "code",
   "execution_count": null,
   "metadata": {},
   "outputs": [],
   "source": [
    "# The total number of households is equal to the number of rows in the microdata set\n",
    "number_of_households = len(microdata.index)"
   ]
  },
  {
   "cell_type": "code",
   "execution_count": null,
   "metadata": {},
   "outputs": [],
   "source": [
    "# Calculate the median income for the calculation of poverty indicators\n",
    "median_income = microdata[\"einkommen_gesamt_jahr_eur\"].median()"
   ]
  },
  {
   "attachments": {},
   "cell_type": "markdown",
   "metadata": {},
   "source": [
    "### Low income households"
   ]
  },
  {
   "cell_type": "code",
   "execution_count": null,
   "metadata": {},
   "outputs": [],
   "source": [
    "low_income_threshold = 1/3  # Households in the bottom third of the income distribution\"\n",
    "\n",
    "# Sort the values by income and select the household income that is located at the threshold\n",
    "low_income_threshold_income_eur = microdata.sort_values(by=\"einkommen_gesamt_jahr_eur\").iloc[int(low_income_threshold*number_of_households)][\"einkommen_gesamt_jahr_eur\"]"
   ]
  },
  {
   "attachments": {},
   "cell_type": "markdown",
   "metadata": {},
   "source": [
    "# 3. Calculate price and income elasticities of demand"
   ]
  },
  {
   "attachments": {},
   "cell_type": "markdown",
   "metadata": {},
   "source": [
    "#### Define regression equation"
   ]
  },
  {
   "cell_type": "code",
   "execution_count": null,
   "metadata": {},
   "outputs": [],
   "source": [
    "regression_formula = \"np.log(stromverbrauch_jahr_kwh) ~ np.log(strompreis_cent_kwh) + np.log(einkommen_gesamt_jahr_eur) + anz_pers\""
   ]
  },
  {
   "attachments": {},
   "cell_type": "markdown",
   "metadata": {},
   "source": [
    "#### Create regression model"
   ]
  },
  {
   "cell_type": "code",
   "execution_count": null,
   "metadata": {},
   "outputs": [],
   "source": [
    "ols_model = sm.ols(formula=regression_formula, data=microdata)"
   ]
  },
  {
   "attachments": {},
   "cell_type": "markdown",
   "metadata": {},
   "source": [
    "#### Fit model to data"
   ]
  },
  {
   "cell_type": "code",
   "execution_count": null,
   "metadata": {},
   "outputs": [],
   "source": [
    "ols_model_results = ols_model.fit()"
   ]
  },
  {
   "attachments": {},
   "cell_type": "markdown",
   "metadata": {},
   "source": [
    "#### Show regression statistics"
   ]
  },
  {
   "cell_type": "code",
   "execution_count": null,
   "metadata": {},
   "outputs": [],
   "source": [
    "display(ols_model_results.summary())"
   ]
  },
  {
   "attachments": {},
   "cell_type": "markdown",
   "metadata": {},
   "source": [
    "# 4. Calculate impact of relief measures"
   ]
  },
  {
   "cell_type": "code",
   "execution_count": null,
   "metadata": {},
   "outputs": [],
   "source": [
    "price_discount_cent_kwh = -5 # €-ct/kWh"
   ]
  },
  {
   "cell_type": "code",
   "execution_count": null,
   "metadata": {},
   "outputs": [],
   "source": [
    "electricity_compensation_eur = 350  # €/a"
   ]
  },
  {
   "attachments": {},
   "cell_type": "markdown",
   "metadata": {},
   "source": [
    "### For the case of a general price discount"
   ]
  },
  {
   "cell_type": "code",
   "execution_count": null,
   "metadata": {},
   "outputs": [],
   "source": [
    "def calc_consumption_change_price_discount(old_consumption, price_elasticity, original_price, price_discount_cent_kwh):\n",
    "    new_price = original_price + price_discount_cent_kwh\n",
    "    return np.exp(price_elasticity*(np.log(new_price)-np.log(original_price))+np.log(old_consumption))"
   ]
  },
  {
   "cell_type": "code",
   "execution_count": null,
   "metadata": {},
   "outputs": [],
   "source": [
    "# HIER MUSS DIE FUNCTION calc_consumption_change_price_discount AUFGERUFEN WERDEN\n",
    "# DEM MICRODATENSATZ KÖNNEN ÜBER FOLGENDEN BEFEHL NEUE SPALTEN HINZUGEFÜGT WERDEN:\n",
    "# microdata[\"neue_spalte\"] = \"xyz\""
   ]
  },
  {
   "attachments": {},
   "cell_type": "markdown",
   "metadata": {},
   "source": [
    "### For the case of an electricity cost compensation for low-income households"
   ]
  },
  {
   "cell_type": "code",
   "execution_count": null,
   "metadata": {},
   "outputs": [],
   "source": [
    "def calc_consumption_change_compensation_payment(old_consumption, income_elasticity, old_income, new_income):\n",
    "    return np.exp(income_elasticity*(np.log(new_income.astype(float))-np.log(old_income.astype(float)))+np.log(old_consumption.astype(float)))"
   ]
  },
  {
   "cell_type": "code",
   "execution_count": null,
   "metadata": {},
   "outputs": [],
   "source": [
    "microdata[\"einkommen_gesamt_jahr_mit_zuschuss_eur\"] = microdata[\"einkommen_gesamt_jahr_eur\"]\n",
    "microdata.loc[microdata[\"einkommen_gesamt_jahr_eur\"] <= low_income_threshold_income_eur, \"einkommen_gesamt_jahr_mit_zuschuss_eur\"] += electricity_compensation_eur"
   ]
  },
  {
   "cell_type": "code",
   "execution_count": null,
   "metadata": {},
   "outputs": [],
   "source": [
    "# HIER MUSS DIE FUNCTION calc_consumption_change_compensation_payment AUFGERUFEN WERDEN\n",
    "# DEM MICRODATENSATZ KÖNNEN ÜBER FOLGENDEN BEFEHL NEUE SPALTEN HINZUGEFÜGT WERDEN:\n",
    "# microdata[\"neue_spalte\"] = \"xyz\""
   ]
  },
  {
   "attachments": {},
   "cell_type": "markdown",
   "metadata": {},
   "source": [
    "# 5. Analyze impact of relief measures"
   ]
  },
  {
   "attachments": {},
   "cell_type": "markdown",
   "metadata": {},
   "source": [
    "### Without relief measures"
   ]
  },
  {
   "cell_type": "code",
   "execution_count": null,
   "metadata": {},
   "outputs": [],
   "source": [
    "microdata[\"anteil_stromkosten\"] = microdata[\"stromverbrauch_jahr_kwh\"] * (microdata[\"strompreis_cent_kwh\"]/100) / microdata[\"einkommen_gesamt_jahr_eur\"]"
   ]
  },
  {
   "cell_type": "code",
   "execution_count": null,
   "metadata": {},
   "outputs": [],
   "source": [
    "print(\"Durchschnittl. Anteil der Stromausgaben am Einkommen:\",round(microdata[\"anteil_stromkosten\"].mean()*100,2), \"%\")"
   ]
  },
  {
   "cell_type": "code",
   "execution_count": null,
   "metadata": {},
   "outputs": [],
   "source": [
    "print(\"Gesamte Stromnachfrage:\",round((microdata[\"stromverbrauch_jahr_kwh\"]/1e6).sum(),2), \"GWh\")"
   ]
  },
  {
   "cell_type": "code",
   "execution_count": null,
   "metadata": {},
   "outputs": [],
   "source": [
    "print(\"Armutsgefährdete Haushalte:\",round(len(microdata.loc[microdata[\"einkommen_gesamt_jahr_eur\"] <= 0.6*median_income].index)/number_of_households*100,2), \"%\")"
   ]
  },
  {
   "attachments": {},
   "cell_type": "markdown",
   "metadata": {},
   "source": [
    "### With price discount"
   ]
  },
  {
   "cell_type": "code",
   "execution_count": null,
   "metadata": {},
   "outputs": [],
   "source": [
    "# ZUNÄCHST MUSS HIER EIN FIKTIVES NEUES EINKOMMEN BERECHNET WERDEN, \n",
    "# DASS KOSTENEINSPARUNGEN WIE EINE EINKOMMENSERHÖHUNG EINBERECHNET"
   ]
  },
  {
   "cell_type": "code",
   "execution_count": null,
   "metadata": {},
   "outputs": [],
   "source": []
  },
  {
   "cell_type": "code",
   "execution_count": null,
   "metadata": {},
   "outputs": [],
   "source": []
  },
  {
   "cell_type": "code",
   "execution_count": null,
   "metadata": {},
   "outputs": [],
   "source": []
  },
  {
   "cell_type": "code",
   "execution_count": null,
   "metadata": {},
   "outputs": [],
   "source": []
  },
  {
   "cell_type": "code",
   "execution_count": null,
   "metadata": {},
   "outputs": [],
   "source": []
  },
  {
   "attachments": {},
   "cell_type": "markdown",
   "metadata": {},
   "source": [
    "### With compensation payment for low-income households"
   ]
  },
  {
   "cell_type": "code",
   "execution_count": null,
   "metadata": {},
   "outputs": [],
   "source": []
  },
  {
   "cell_type": "code",
   "execution_count": null,
   "metadata": {},
   "outputs": [],
   "source": []
  },
  {
   "cell_type": "code",
   "execution_count": null,
   "metadata": {},
   "outputs": [],
   "source": []
  },
  {
   "cell_type": "code",
   "execution_count": null,
   "metadata": {},
   "outputs": [],
   "source": []
  },
  {
   "cell_type": "code",
   "execution_count": null,
   "metadata": {},
   "outputs": [],
   "source": []
  }
 ],
 "metadata": {
  "kernelspec": {
   "display_name": "TESA",
   "language": "python",
   "name": "tesa"
  },
  "language_info": {
   "codemirror_mode": {
    "name": "ipython",
    "version": 3
   },
   "file_extension": ".py",
   "mimetype": "text/x-python",
   "name": "python",
   "nbconvert_exporter": "python",
   "pygments_lexer": "ipython3",
   "version": "3.7.7"
  }
 },
 "nbformat": 4,
 "nbformat_minor": 4
}
