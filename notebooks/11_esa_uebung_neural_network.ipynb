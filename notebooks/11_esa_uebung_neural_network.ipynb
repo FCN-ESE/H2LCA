{
 "cells": [
  {
   "cell_type": "code",
   "execution_count": null,
   "metadata": {},
   "outputs": [],
   "source": [
    "# import packages and functions needed for using the notebook\n",
    "\n",
    "import sys\n",
    "import os\n",
    "sys.path.append(os.path.abspath(os.path.join('..')))\n",
    "from IPython.display import HTML, Image, Javascript, display, Markdown, Math, Latex\n",
    "\n",
    "import ipywidgets as widgets\n",
    "\n",
    "import xml.etree.ElementTree as ET\n",
    "\n",
    "import warnings\n",
    "warnings.filterwarnings(\"ignore\")\n",
    "\n",
    "from traitlets import traitlets\n",
    "\n",
    "# Style for widgets labels (solves problem with too short label)\n",
    "style = {'description_width': 'initial'}\n",
    "# Layout, so Button labels are not too long\n",
    "layout = {\"width\" : \"max-content\"}\n",
    "# Layout for boxes that contain several widgets\n",
    "box_layout = {\"flex-wrap\" : \"initial\",  \"flex_flow\" : \"column\", \"align_content\" : \"space-between\", \"border\" : \"solid\", \"width\" : \"initial\"}"
   ]
  },
  {
   "cell_type": "code",
   "execution_count": null,
   "metadata": {},
   "outputs": [],
   "source": [
    "# import packages for ANN use\n",
    "\n",
    "# basic packages\n",
    "import numpy as np\n",
    "import tensorflow as tf\n",
    "import random as rn\n",
    "import datetime\n",
    "import pandas as pd\n",
    "\n",
    "# specific subpackages of keras\n",
    "from keras.layers import Input, Dense\n",
    "from keras.models import Model\n",
    "from keras import optimizers\n",
    "from keras import callbacks\n",
    "\n",
    "# auxiliary functions\n",
    "from assets.py.tesa_uebung_ann_auxiliary import load_data, get_input_ratio, plot_training_history, \\\n",
    "                                      mean_absolute_percentage_error, postprocess_prediction_results, \\\n",
    "                                      plot_activations, show_data_excerpt, plot_data_excerpt\n",
    "\n",
    "# All  necessary dependencies:\n",
    "# For ANN: numpy, random, xlrd, matplotlib, pandas, scikit-learn, tensorflow 1.X"
   ]
  },
  {
   "cell_type": "code",
   "execution_count": null,
   "metadata": {},
   "outputs": [],
   "source": [
    "# initialize randomness for reproducible results\n",
    "np.random.seed(42)\n",
    "rn.seed(12345)\n",
    "session_conf = tf.compat.v1.ConfigProto(intra_op_parallelism_threads=1,\n",
    "                              inter_op_parallelism_threads=1)\n",
    "\n",
    "tf.random.set_seed(2)\n",
    "sess = tf.compat.v1.Session(graph=tf.compat.v1.get_default_graph(), config=session_conf)\n",
    "tf.compat.v1.keras.backend.set_session(sess)"
   ]
  },
  {
   "cell_type": "code",
   "execution_count": null,
   "metadata": {},
   "outputs": [],
   "source": [
    "# This cell contains functions for running certain cells\n",
    "\n",
    "def run_next(ev):\n",
    "    display(Javascript('IPython.notebook.execute_cell_range(IPython.notebook.get_selected_index()+1, IPython.notebook.get_selected_index()+2)'))\n",
    "    \n",
    "def run_next_two(ev):\n",
    "    display(Javascript('IPython.notebook.execute_cell_range(IPython.notebook.get_selected_index()+1, IPython.notebook.get_selected_index()+3)'))\n",
    "\n",
    "def run_next_three(ev):\n",
    "    display(Javascript('IPython.notebook.execute_cell_range(IPython.notebook.get_selected_index()+1, IPython.notebook.get_selected_index()+4)'))\n",
    "     \n",
    "def run_before(ev):\n",
    "    display(Javascript('IPython.notebook.execute_cell_range(IPython.notebook.get_selected_index()-3, IPython.notebook.get_selected_index())-1'))\n",
    "\n",
    "def run_all_below(ev):\n",
    "    display(Javascript('IPython.notebook.execute_cell_range(IPython.notebook.get_selected_index()+1, IPython.notebook.ncells())'))\n",
    "    \n",
    "def run_current_and_all_below(ev):\n",
    "    display(Javascript('IPython.notebook.execute_cell_range(IPython.notebook.get_selected_index(), IPython.notebook.ncells())'))\n",
    "    \n",
    "def run_all(ev):\n",
    "    display(Javascript('IPython.notebook.execute_cell_range(0, IPython.notebook.ncells())'))\n",
    "    \n",
    "def run_all_alternative():\n",
    "    display(Javascript('IPython.notebook.execute_cell_range(0, IPython.notebook.ncells())'))"
   ]
  },
  {
   "cell_type": "code",
   "execution_count": null,
   "metadata": {},
   "outputs": [],
   "source": [
    "%%html\n",
    "\n",
    "<!-- This cell contains all HTML output for displaying the content correctly -->\n",
    "\n",
    "<script>\n",
    "    // AUTORUN ALL CELLS ON NOTEBOOK-LOAD!\n",
    "    require(\n",
    "        ['base/js/namespace', 'jquery'], \n",
    "        function(jupyter, $) {\n",
    "            $(jupyter.events).on(\"kernel_ready.Kernel\", function () {\n",
    "                console.log(\"Auto-running all cells-below...\");\n",
    "                jupyter.actions.call('jupyter-notebook:run-all-cells-below');\n",
    "                jupyter.actions.call('jupyter-notebook:save-notebook');\n",
    "            });\n",
    "        }\n",
    "    );\n",
    "</script>\n",
    "<style>\n",
    "    div.output_area .MathJax_Display {\n",
    "        text-align: center !important;\n",
    "    }\n",
    "    .container { \n",
    "        #width:100% !important; \n",
    "    }\n",
    "</style>"
   ]
  },
  {
   "cell_type": "code",
   "execution_count": null,
   "metadata": {},
   "outputs": [],
   "source": [
    "# This cell creates a button to toggle the GUI code.\n",
    "\n",
    "toggleGUI = HTML('''<script>\n",
    "code_show=true; \n",
    "function code_toggle() {\n",
    " if (code_show){\n",
    " $('div.input').hide();\n",
    " } else {\n",
    " $('div.input').show();\n",
    " }\n",
    " code_show = !code_show\n",
    "} \n",
    "$( document ).ready(code_toggle);\n",
    "</script>\n",
    "<form action=\"javascript:code_toggle()\"><input type=\"submit\" \n",
    "value=\"Klicken Sie hier, um den Code des GUI-Java Scripts anzuzeigen/auszublenden!\"></form>''')\n",
    "display(toggleGUI)"
   ]
  },
  {
   "cell_type": "code",
   "execution_count": null,
   "metadata": {},
   "outputs": [],
   "source": [
    "# This cell creates a dropdown menu for selecting the language\n",
    "language_dropdown = widgets.Dropdown(\n",
    "    options=['Deutsch', 'English'],\n",
    "    value='Deutsch',\n",
    "    description='Select your language:',\n",
    "    style=style\n",
    ")\n",
    "\n",
    "# Create Button widget to proceed\n",
    "button_confirm_language = widgets.Button(description=\"OK\", button_style='success')\n",
    "\n",
    "# Display all of the widgets \n",
    "display(widgets.HBox(children = [language_dropdown, button_confirm_language]))\n",
    "\n",
    "\n",
    "button_confirm_language.on_click(run_all_below)"
   ]
  },
  {
   "cell_type": "code",
   "execution_count": null,
   "metadata": {},
   "outputs": [],
   "source": [
    "# This cell sets the selected the language .xml-file corresponding to the language chosen and parses it\n",
    "\n",
    "if language_dropdown.value == 'Deutsch':\n",
    "    filepath_language_xml = 'assets/strings/ann_deutsch.xml'\n",
    "elif language_dropdown.value == 'English':\n",
    "    filepath_language_xml = 'assets/strings/ann_english.xml'\n",
    "\n",
    "\n",
    "tree = ET.parse(filepath_language_xml)\n",
    "language_strings = tree.getroot()\n",
    "\n",
    "# Function to get a string by ID from the parsed xml file\n",
    "def string(name):\n",
    "    try:\n",
    "        value = language_strings.find(\"string/[@name='\"+name+\"']\").text\n",
    "        return value\n",
    "    except AttributeError as error:\n",
    "        print('##### No string with this name in xml file #####')"
   ]
  },
  {
   "cell_type": "code",
   "execution_count": null,
   "metadata": {},
   "outputs": [],
   "source": [
    "# This cell creates a button for resetting the notebook\n",
    "\n",
    "buttonReset = widgets.Button(description=string('txt_Einstellungen_Reset'),\n",
    "                            button_style='success')\n",
    "\n",
    "\n",
    "buttonReset.on_click(run_all)\n",
    "display(buttonReset)"
   ]
  },
  {
   "cell_type": "code",
   "execution_count": null,
   "metadata": {},
   "outputs": [],
   "source": [
    "# This cell displays heading and logo\n",
    "\n",
    "display(Markdown(string('hd_Einführung')))"
   ]
  },
  {
   "cell_type": "markdown",
   "metadata": {},
   "source": [
    "<img src=\"assets/img/rwth_eerc_rgb.png\" alt=\"JERI-Logo\" style=\"display: block;  margin-left: auto;  margin-right: auto;  width: 80%;\"/>"
   ]
  },
  {
   "cell_type": "code",
   "execution_count": null,
   "metadata": {
    "scrolled": false
   },
   "outputs": [],
   "source": [
    "display(Markdown(string(\"hd_Einleitung\")))\n",
    "display(Markdown(string(\"txt_Einleitung\")))\n",
    "display(Markdown(string(\"txt_Einleitung2\")))"
   ]
  },
  {
   "cell_type": "code",
   "execution_count": null,
   "metadata": {
    "scrolled": false
   },
   "outputs": [],
   "source": [
    "display(Markdown(string(\"hd_Daten\")))\n",
    "display(Markdown(string(\"txt_Daten1\")))\n",
    "display(Markdown(string(\"txt_Daten2\")))"
   ]
  },
  {
   "cell_type": "code",
   "execution_count": null,
   "metadata": {},
   "outputs": [],
   "source": [
    "# Create  widget for selecting dates to show\n",
    "start_date_picker = widgets.DatePicker(description =string(\"lbl_Startdatum\"), value = datetime.date(2012,1,1), style = style)\n",
    "end_date_picker = widgets.DatePicker(description =string(\"lbl_Enddatum\"), value = datetime.date(2016,12,31), style = style)\n",
    "\n",
    "# Create Button widgets to proceed\n",
    "button_confirm_date = widgets.Button(description=string('lbl_ButtonOK'), button_style='success')\n",
    "\n",
    "# Display all of the widgets \n",
    "display(widgets.HBox(children = [start_date_picker, end_date_picker, button_confirm_date]))\n",
    "\n",
    "button_confirm_date.on_click(run_next)"
   ]
  },
  {
   "cell_type": "code",
   "execution_count": null,
   "metadata": {
    "scrolled": false
   },
   "outputs": [],
   "source": [
    "# This cell displays the graphs of the data\n",
    "\n",
    "# Set start and end date\n",
    "start = start_date_picker.value\n",
    "end = end_date_picker.value\n",
    "\n",
    "# Names of columns in the dataset and helper dictionary to set titles in selected language\n",
    "columns = [\"windspeed\", \"temperature\", \"radiation_direct\", \"radiation_diffuse\", \"load\"]\n",
    "titles_data = {\"English\" : {\"windspeed\" : \"Wind Speed\", \"temperature\" : \"Temperature\", \"radiation_direct\" : \"Direct Radiaion\", \"radiation_diffuse\" : \"Diffuse Radiation\", \"load\" : \"Electric load\" }, \n",
    "               \"Deutsch\": { \"windspeed\" :  \"Windgeschwindigkeit\", \"temperature\" : \"Temperatur\", \"radiation_direct\" : \"Direkte Sonneneinstrahlung\", \"radiation_diffuse\" : \"Diffuse Sonneneinstrahlung\", \"load\" : \"Elektrische Last\"  }}\n",
    "\n",
    "# Create widgets: output widgets to capture the plots, tab widget to house the plots\n",
    "outs_data = [widgets.Output() for column in columns]\n",
    "tab_data = widgets.Tab(children = outs_data)\n",
    "\n",
    "# Fill widgets with data and display the plots\n",
    "for i in range(len(columns)):\n",
    "    tab_data.set_title(i, titles_data[language_dropdown.value][columns[i]])\n",
    "    with outs_data[i]:\n",
    "        plot_data_excerpt(\"assets/data/tesa_uebung_ann_data.csv\", start_date = start, end_date = end, column = columns[i])\n",
    "\n",
    "display(tab_data)"
   ]
  },
  {
   "cell_type": "code",
   "execution_count": null,
   "metadata": {},
   "outputs": [],
   "source": [
    "display(Markdown(string(\"Abb_Daten\")))"
   ]
  },
  {
   "cell_type": "code",
   "execution_count": null,
   "metadata": {
    "scrolled": false
   },
   "outputs": [],
   "source": [
    "display(Markdown(string(\"hd_Neuronales_Netz\")))\n",
    "display(Markdown(string(\"txt_Neuronales_Netz\")))\n",
    "display(Markdown(string(\"txt_Anpassungen_list\")))"
   ]
  },
  {
   "cell_type": "code",
   "execution_count": null,
   "metadata": {
    "scrolled": false
   },
   "outputs": [],
   "source": [
    "display(Markdown(string('hd_Vorhersagehorizont')))\n",
    "display(Markdown(string('txt_Vorhersagehorizont')))"
   ]
  },
  {
   "cell_type": "code",
   "execution_count": null,
   "metadata": {
    "scrolled": false
   },
   "outputs": [],
   "source": [
    "# Input text for specifying the output horizon\n",
    "Input_output_horizon = widgets.BoundedIntText(value=168, min=24.0, max=336.0, step=1.0, description=string('lbl_InputHorizont'), style=style)\n",
    "\n",
    "# Create Button widget to proceed\n",
    "button_confirm_horizon = widgets.Button(description=string('lbl_ButtonOK'), button_style='success')\n",
    "\n",
    "# Display the widgets in a Box widget\n",
    "display(widgets.HBox(children = [Input_output_horizon, button_confirm_horizon]))\n",
    "\n",
    "# Once the button is clicked, the next cells are run\n",
    "button_confirm_horizon.on_click(run_next_two)"
   ]
  },
  {
   "cell_type": "code",
   "execution_count": null,
   "metadata": {
    "scrolled": false
   },
   "outputs": [],
   "source": [
    "output_horizon = Input_output_horizon.value"
   ]
  },
  {
   "cell_type": "code",
   "execution_count": null,
   "metadata": {
    "scrolled": false
   },
   "outputs": [],
   "source": [
    "display(Markdown(string('hd_Hidden_Layer')))\n",
    "display(Markdown(string('txt_Hidden_Layer')))"
   ]
  },
  {
   "cell_type": "markdown",
   "metadata": {},
   "source": [
    "<img src=\"assets/img/ANN_Architecture.png\" alt=\"JERI-Logo\" style=\"display: block;  margin-left: auto;  margin-right: auto;  width: 80%;\"/>"
   ]
  },
  {
   "cell_type": "code",
   "execution_count": null,
   "metadata": {},
   "outputs": [],
   "source": [
    "display(Markdown(string(\"Abb_Architektur\")))"
   ]
  },
  {
   "cell_type": "code",
   "execution_count": null,
   "metadata": {
    "scrolled": false
   },
   "outputs": [],
   "source": [
    "display(Markdown(string('hd_Anzahl_Neuronen')))\n",
    "display(Markdown(string('txt_Anzahl_Neuronen')))\n",
    "display(Markdown(string('txt_Anzahl_Neuronen2')))"
   ]
  },
  {
   "cell_type": "code",
   "execution_count": null,
   "metadata": {
    "scrolled": false
   },
   "outputs": [],
   "source": [
    "# Input text for specifying the number of units in the hidden layers\n",
    "Input_no_of_units = widgets.BoundedIntText(value=128, min=1, max=512, step=1, description=string('lbl_InputAnzahlUnits'), style=style)\n",
    "\n",
    "# Create Button widget to proceed\n",
    "button_confirm_units = widgets.Button(description=string('lbl_ButtonOK'), button_style='success')\n",
    "\n",
    "# Display all of the widgets next to each other in a box\n",
    "display(widgets.HBox(children = [Input_no_of_units, button_confirm_units]))\n",
    "\n",
    "# Once the button is clicked, run next cell\n",
    "button_confirm_units.on_click(run_next)"
   ]
  },
  {
   "cell_type": "code",
   "execution_count": null,
   "metadata": {
    "scrolled": false
   },
   "outputs": [],
   "source": [
    "no_of_units = Input_no_of_units.value\n",
    "Input_no_of_units.observe(run_next, names='value')"
   ]
  },
  {
   "cell_type": "code",
   "execution_count": null,
   "metadata": {
    "scrolled": false
   },
   "outputs": [],
   "source": [
    "display(Markdown(string('hd_Anzahl_Hidden_Layer')))\n",
    "display(Markdown(string('txt_Anzahl_Hidden_Layer')))"
   ]
  },
  {
   "cell_type": "code",
   "execution_count": null,
   "metadata": {},
   "outputs": [],
   "source": [
    "display(Markdown(string('txt_Aktivierungen')))\n",
    "plot_activations([\"tanh\", \"sigmoid\", \"linear\", \"relu\"], -10, 10)"
   ]
  },
  {
   "cell_type": "code",
   "execution_count": null,
   "metadata": {},
   "outputs": [],
   "source": [
    "display(Markdown(string(\"Abb_Aktivierungen\")))"
   ]
  },
  {
   "cell_type": "code",
   "execution_count": null,
   "metadata": {},
   "outputs": [],
   "source": [
    "display(Markdown(string('txt_Aktivierungen2')))"
   ]
  },
  {
   "cell_type": "code",
   "execution_count": null,
   "metadata": {
    "scrolled": false
   },
   "outputs": [],
   "source": [
    "# Add Hidden Layers\n",
    "\n",
    "# Create Slider Widget \n",
    "AddHiddenLayers = widgets.IntSlider(value=2, min = 1, max = 5, description=string('lbl_LayerHinzufügen'), continuous_update=True, style=style)\n",
    "\n",
    "# Create Button widget to confirm changes\n",
    "button_confirm_layers = widgets.Button(description=string('lbl_ButtonOK'), button_style='success')\n",
    "\n",
    "# Display all of the widgets next to each other in a box\n",
    "display(widgets.HBox(children = [AddHiddenLayers, button_confirm_layers]))\n",
    "\n",
    "button_confirm_layers.on_click(run_next_two)"
   ]
  },
  {
   "cell_type": "code",
   "execution_count": null,
   "metadata": {},
   "outputs": [],
   "source": [
    "# Set no. of Hidden Layers\n",
    "no_of_hidden_layers = AddHiddenLayers.value\n",
    "\n",
    "# Create Tab-Widget and fill in with one activation dropdown widget per Hidden Layer\n",
    "tab_activations = widgets.Tab()\n",
    "tab_activations.children = [widgets.ToggleButtons(options=[\"tanh\", \"sigmoid\", \"relu\", \"linear\"], value=\"tanh\", \\\n",
    "                             description=string(\"lbl_InputActivierung\"), style=style) for layer in range(no_of_hidden_layers+1)]\n",
    "\n",
    "# Set titles for the tabs\n",
    "for i in range(no_of_hidden_layers):\n",
    "    tab_activations.set_title(i, \"Hidden Layer {}\".format(i+1))\n",
    "tab_activations.set_title(no_of_hidden_layers, \"Output layer\")\n",
    "\n",
    "# Create button widget for proceeding\n",
    "button_confirm_activations = widgets.Button(description=string(\"lbl_ButtonOK\"),\n",
    "                            button_style='success')\n",
    "button_confirm_activations.on_click(run_next)\n",
    "display(tab_activations, button_confirm_activations)"
   ]
  },
  {
   "cell_type": "code",
   "execution_count": null,
   "metadata": {},
   "outputs": [],
   "source": [
    "# Create a dict of activations for later on\n",
    "activations_dict = {}\n",
    "for i in range(no_of_hidden_layers):\n",
    "    # For every Hidden Layer: \n",
    "    # 1. Read the name of the layer as specified in the Tabs Widget and set it as key\n",
    "    # 2. Add the chosen activation to the dictionary\n",
    "    activations_dict[tab_activations.titles[i]] = tab_activations.children[i].value\n",
    "# Add activation for Output Layer\n",
    "activations_dict[\"Output Layer\"] = tab_activations.children[no_of_hidden_layers].value"
   ]
  },
  {
   "cell_type": "code",
   "execution_count": null,
   "metadata": {
    "scrolled": false
   },
   "outputs": [],
   "source": [
    "display(Markdown(string('hd_Output_Layer')))\n",
    "display(Markdown(string('txt_Output_Layer')))"
   ]
  },
  {
   "cell_type": "code",
   "execution_count": null,
   "metadata": {
    "scrolled": false
   },
   "outputs": [],
   "source": [
    "display(Markdown(string('hd_Modellübersicht')))\n",
    "display(Markdown(string('txt_Modellübersicht')))"
   ]
  },
  {
   "cell_type": "code",
   "execution_count": null,
   "metadata": {
    "scrolled": false
   },
   "outputs": [],
   "source": [
    "# This cell creates a button for showing a model summary \n",
    "\n",
    "button_create_model = widgets.Button(description=string('txt_ShowZusammenfassung'), button_style='success', layout = layout)\n",
    "\n",
    "button_create_model.on_click(run_next_two)\n",
    "display(button_create_model)"
   ]
  },
  {
   "cell_type": "code",
   "execution_count": null,
   "metadata": {
    "scrolled": false
   },
   "outputs": [],
   "source": [
    "# All the layers needed are created here\n",
    "\n",
    "# Input Layer\n",
    "input_layer = Input(shape=(output_horizon*get_input_ratio(), ))\n",
    "\n",
    "# First Hidden Layer: input shape = output shape of Input Layer\n",
    "# units: number of neurons for the Hidden Layer\n",
    "hidden = Dense(units=no_of_units, activation=activations_dict[tab_activations.titles[0]])(input_layer)\n",
    "\n",
    "# All other Hidden Layers: Input Shape = output Shape\n",
    "for i in range(1, no_of_hidden_layers):\n",
    "    hidden = Dense(units=no_of_units, activation = activations_dict[tab_activations.titles[i]])(hidden)\n",
    "\n",
    "# Create output layer\n",
    "outputs = Dense(units=output_horizon, activation=activations_dict[\"Output Layer\"])(hidden)"
   ]
  },
  {
   "cell_type": "code",
   "execution_count": null,
   "metadata": {
    "scrolled": false
   },
   "outputs": [],
   "source": [
    "# Finalize the model\n",
    "\n",
    "model = Model(inputs=input_layer, outputs=outputs)\n",
    "\n",
    "# Define the loss metric that will be minimized by the model during the traning process\n",
    "loss =  'mae' \n",
    "\n",
    "# Define the metrics that are used for evaluation during the training and testing process \n",
    "model.compile(loss=loss, optimizer=\"adam\", metrics=['mae', 'mse', 'mape'])\n",
    "\n",
    "# Save initial model weights\n",
    "weights_save = model.get_weights()\n",
    "\n",
    "# Print a model summary\n",
    "print(\"\\nModel summary:\")\n",
    "print(model.summary())\n",
    "# Print a list and a graph of the chosen activations\n",
    "print(\"\\nYou chose the following activations:\")\n",
    "for key in activations_dict.keys():\n",
    "    print(key, \": \", \"\\t\", activations_dict[key])\n",
    "\n",
    "chosen_activations = list(activations_dict.values())\n",
    "plot_activations(chosen_activations, -10, 10)"
   ]
  },
  {
   "cell_type": "code",
   "execution_count": null,
   "metadata": {
    "scrolled": false
   },
   "outputs": [],
   "source": [
    "display(Markdown(string('hd_Vorhersage')))\n",
    "display(Markdown(string('txt_Vorhersage')))"
   ]
  },
  {
   "cell_type": "code",
   "execution_count": null,
   "metadata": {
    "scrolled": false
   },
   "outputs": [],
   "source": [
    "# Slider for specifying the number training/evaluation data split\n",
    "Input_data_split = widgets.FloatSlider(value=0.8, min=0.05, max=0.95, step=0.05, description=string('lbl_InputSplit'), continuous_update=False, readout_format=\".0%\", style=style)\n",
    "\n",
    "# Create Button widget to confirm changes\n",
    "button_confirm_split = widgets.Button(description=string('lbl_ButtonOK'), button_style='success')\n",
    "\n",
    "# Display all of the widgets next to each other in a box\n",
    "display(widgets.HBox(children = [Input_data_split, button_confirm_split]))\n",
    "\n",
    "button_confirm_split.on_click(run_next)"
   ]
  },
  {
   "cell_type": "code",
   "execution_count": null,
   "metadata": {},
   "outputs": [],
   "source": [
    "data_split = Input_data_split.value"
   ]
  },
  {
   "cell_type": "code",
   "execution_count": null,
   "metadata": {
    "scrolled": false
   },
   "outputs": [],
   "source": [
    "display(Markdown(string('hd_Training')))\n",
    "display(Markdown(string('txt_Training')))\n",
    "display(Markdown(string('txt_Training2')))"
   ]
  },
  {
   "cell_type": "code",
   "execution_count": null,
   "metadata": {
    "scrolled": false
   },
   "outputs": [],
   "source": [
    "# Input text for specifying the number of epochs during training\n",
    "Input_no_of_epochs = widgets.BoundedIntText(value=30, min=1, max=500, step=1, description=string('lbl_InputEpochen'), style=style)\n",
    "\n",
    "# Create Button widget to confirm changes\n",
    "button_confirm_epochs = widgets.Button(description=string('lbl_ButtonOK'), button_style='success')\n",
    "\n",
    "# Display all of the widgets next to each other in a box\n",
    "display(widgets.HBox(children = [Input_no_of_epochs, button_confirm_epochs]))\n",
    "\n",
    "button_confirm_epochs.on_click(run_next)"
   ]
  },
  {
   "cell_type": "code",
   "execution_count": null,
   "metadata": {
    "scrolled": false
   },
   "outputs": [],
   "source": [
    "number_of_epochs = Input_no_of_epochs.value\n",
    "Input_no_of_epochs.observe(run_next, names='value')"
   ]
  },
  {
   "cell_type": "code",
   "execution_count": null,
   "metadata": {
    "scrolled": false
   },
   "outputs": [],
   "source": [
    "display(Markdown(string('txt_Training3')))"
   ]
  },
  {
   "cell_type": "code",
   "execution_count": null,
   "metadata": {
    "scrolled": false
   },
   "outputs": [],
   "source": [
    "# This cell creates a button for starting the training\n",
    "\n",
    "buttonStartTraining = widgets.Button(description=string('txt_StartTraining'),\n",
    "                            button_style='success')\n",
    "\n",
    "\n",
    "buttonStartTraining.on_click(run_all_below)\n",
    "display(buttonStartTraining)"
   ]
  },
  {
   "cell_type": "code",
   "execution_count": null,
   "metadata": {},
   "outputs": [],
   "source": [
    "print(\"Loading data...\")\n",
    "print(\"Using {:.0f}% of data as training data.\".format(Input_data_split.value*100))\n",
    "X_train, X_test, Y_train, Y_test, _, y_scaler, date_test_labels = load_data(\"assets/data/tesa_uebung_ann_data.csv\", output_horizon, test_size = 1-Input_data_split.value)"
   ]
  },
  {
   "cell_type": "code",
   "execution_count": null,
   "metadata": {
    "scrolled": false
   },
   "outputs": [],
   "source": [
    "# Create callback to display training progress\n",
    "class training_progress_printer(callbacks.Callback):\n",
    "    def on_epoch_begin(self, epoch, logs =  None):\n",
    "        \n",
    "        # For cases with many epochs, only show progress for every nth epoch\n",
    "        # Determine the n_th epoch depending on number of epochs total\n",
    "        \n",
    "        epochs_to_skip = {10 : 1, 100: 5, 500: 20}\n",
    "        for ele in sorted(epochs_to_skip.keys()):\n",
    "            if Input_no_of_epochs.value <= ele:\n",
    "                nth_epoch = epochs_to_skip[ele]\n",
    "                break\n",
    "        \n",
    "        # Always print number of first epoch\n",
    "        if nth_epoch > 1 and epoch == 0:\n",
    "            print(\"Beginning epoch {}\".format(epoch+1))\n",
    "                \n",
    "        # Print epoch progress (except for last epoch so it doesn't get printed twice) \n",
    "        if (epoch+1) % nth_epoch == 0 and (epoch+1) != Input_no_of_epochs.value: \n",
    "            print(\"Beginning epoch {}\".format(epoch+1))\n",
    "        \n",
    "        # Always print number of last epoch\n",
    "        if epoch+1 == Input_no_of_epochs.value:\n",
    "            print(\"Beginning epoch {}\".format(epoch+1))\n",
    "            print(\"Training complete\")"
   ]
  },
  {
   "cell_type": "code",
   "execution_count": null,
   "metadata": {
    "scrolled": false
   },
   "outputs": [],
   "source": [
    "print(f\"Data loaded. Beginning training with {number_of_epochs} epochs...\")\n",
    "print('Number of training data points:',len(X_train))\n",
    "\n",
    "# Set model weights to initial weights\n",
    "model.set_weights(weights_save)\n",
    "\n",
    "# Train model\n",
    "history = model.fit(X_train, Y_train, validation_split=0.2, verbose=0, epochs=number_of_epochs, callbacks = [training_progress_printer()])"
   ]
  },
  {
   "cell_type": "code",
   "execution_count": null,
   "metadata": {},
   "outputs": [],
   "source": [
    "# Show results of training using error metrics\n",
    "\n",
    "# Meanings of metrics defined with model creation\n",
    "metrics = [\"mae\", \"mse\", \"rmse\"]\n",
    "meanings = {\"mae\" : \"Mean Absolute Error\", \"mse\" : \"Mean Squared Error\", \"rmse\" : \"Root Mean Squared Error\"}\n",
    "\n",
    "# tensorflow knows MSE, but not RMSE --> compute RMSE\n",
    "rmse = np.sqrt(history.history[\"mse\"])\n",
    "val_rmse = np.sqrt(history.history[\"val_mse\"])\n",
    "\n",
    "# Add RMSE to metrics dict\n",
    "metric_data = history.history\n",
    "metric_data[\"rmse\"] = list(rmse)\n",
    "metric_data[\"val_rmse\"] = list(val_rmse)\n",
    "\n",
    "# Create Tab widget and out widgets as children\n",
    "# Out widgets catch and display output of plotting functions\n",
    "outs_training = [widgets.Output() for metric in metrics]\n",
    "tab_training = widgets.Tab(children = outs_training)\n",
    "\n",
    "for i in range(len(metrics)):\n",
    "    tab_training.set_title(i, meanings[metrics[i]])\n",
    "    with outs_training[i]:\n",
    "        plot_training_history(metric_data, metrics[i])\n",
    "\n",
    "display(tab_training)"
   ]
  },
  {
   "cell_type": "code",
   "execution_count": null,
   "metadata": {},
   "outputs": [],
   "source": [
    "display(Markdown(string(\"Abb_Training\")))"
   ]
  },
  {
   "cell_type": "code",
   "execution_count": null,
   "metadata": {},
   "outputs": [],
   "source": [
    "display(Markdown(string('txt_Validierung')))\n",
    "display(Markdown(string('txt_Validierung2')))"
   ]
  },
  {
   "cell_type": "code",
   "execution_count": null,
   "metadata": {
    "scrolled": false
   },
   "outputs": [],
   "source": [
    "display(Markdown(string('hd_Evaluierung')))\n",
    "display(Markdown(string('txt_Evaluierung')))"
   ]
  },
  {
   "cell_type": "code",
   "execution_count": null,
   "metadata": {
    "scrolled": false
   },
   "outputs": [],
   "source": [
    "print(\"Beginning evaluation...\")\n",
    "Y_predictor = model.predict(X_test)\n",
    "postprocess_prediction_results(Y_predictor, Y_test, y_scaler, date_test_labels)"
   ]
  },
  {
   "cell_type": "code",
   "execution_count": null,
   "metadata": {},
   "outputs": [],
   "source": [
    "display(Markdown(string(\"Abb_Evaluation\")))"
   ]
  },
  {
   "cell_type": "code",
   "execution_count": null,
   "metadata": {},
   "outputs": [],
   "source": []
  }
 ],
 "metadata": {
  "kernelspec": {
   "display_name": "JERICHO-E-usage",
   "language": "python",
   "name": "jericho-e-usage"
  },
  "language_info": {
   "codemirror_mode": {
    "name": "ipython",
    "version": 3
   },
   "file_extension": ".py",
   "mimetype": "text/x-python",
   "name": "python",
   "nbconvert_exporter": "python",
   "pygments_lexer": "ipython3",
   "version": "3.7.16"
  }
 },
 "nbformat": 4,
 "nbformat_minor": 2
}
