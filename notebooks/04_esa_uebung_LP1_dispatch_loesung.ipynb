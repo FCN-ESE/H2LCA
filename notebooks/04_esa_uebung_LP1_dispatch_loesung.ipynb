{
 "cells": [
  {
   "cell_type": "code",
   "execution_count": null,
   "metadata": {},
   "outputs": [],
   "source": [
    "from __future__ import division\n",
    "import pyomo.environ as pyomo\n",
    "import pyomo.opt as opt"
   ]
  },
  {
   "cell_type": "markdown",
   "metadata": {},
   "source": [
    "# Welcome to the TESA programming exercise on basic dispatch LP models"
   ]
  },
  {
   "cell_type": "markdown",
   "metadata": {},
   "source": [
    "## 1. Prepare the input data for the LP model"
   ]
  },
  {
   "cell_type": "code",
   "execution_count": null,
   "metadata": {},
   "outputs": [],
   "source": [
    "# introduce sets of indices\n",
    "G = ['CCGT','GT','Oil','Hydro','Hard coal','Lignite','Nuclear','Wind'] # generator technologies"
   ]
  },
  {
   "cell_type": "code",
   "execution_count": null,
   "metadata": {},
   "outputs": [],
   "source": [
    "# maximal CO2 emissions [Mt]\n",
    "MAX_CO2 = 360"
   ]
  },
  {
   "cell_type": "code",
   "execution_count": null,
   "metadata": {},
   "outputs": [],
   "source": [
    "# Demand for electric energy [TWh]\n",
    "DEMAND = 620 "
   ]
  },
  {
   "cell_type": "code",
   "execution_count": null,
   "metadata": {},
   "outputs": [],
   "source": [
    "# Technical specifications of the generator technologies\n",
    "\n",
    "# convention:   tech_data[(g,'capacity')] = maximal electricity output of technology g [TWh/a]\n",
    "#               tech_data[(g,'eta_el')] = eta_electric of technology g [1]\n",
    "#               tech_data[(g,'fuel price')]= fuel price of technology g [€/MWh_thermal]\n",
    "#               tech_data[(g,'other variable costs')] = other variable costs of technology g [€/MWh_el]\n",
    "#               tech_data[(g,'emission factor')] = emission factor of technology g [g CO2/kWh_thermal]\n",
    "tech_data_g = {('CCGT','capacity'):      149.7,  ('CCGT','eta_el'):      0.54,   ('CCGT','fuel price'):      25.8,   ('CCGT','other variable costs'):      1.5,    ('CCGT','emission factor'):       204.8, \n",
    "               ('GT','capacity'):        7.0,    ('GT','eta_el'):        0.28,   ('GT','fuel price'):        25.8,   ('GT','other variable costs'):        1.5,    ('GT','emission factor'):         204.8, \n",
    "               ('Oil','capacity'):       13.9,   ('Oil','eta_el'):       0.28,   ('Oil','fuel price'):       50.1,   ('Oil','other variable costs'):       1.7,    ('Oil','emission factor'):        266.4, \n",
    "               ('Hydro','capacity'):     27.1,   ('Hydro','eta_el'):     1.0,    ('Hydro','fuel price'):     0.0,    ('Hydro','other variable costs'):     1.5,    ('Hydro','emission factor'):      0.0,\n",
    "               ('Hard coal','capacity'): 193.2,  ('Hard coal','eta_el'): 0.41,   ('Hard coal','fuel price'): 7.7,    ('Hard coal','other variable costs'): 2.6,    ('Hard coal','emission factor'):  342.0, \n",
    "               ('Lignite','capacity'):   168.7,  ('Lignite','eta_el'):   0.38,   ('Lignite','fuel price'):   3.8,    ('Lignite','other variable costs'):   3.0,    ('Lignite','emission factor'):    399.6, \n",
    "               ('Nuclear','capacity'):   157.3,  ('Nuclear','eta_el'):   0.33,   ('Nuclear','fuel price'):   1.8,    ('Nuclear','other variable costs'):   0.7,    ('Nuclear','emission factor'):    0.0,\n",
    "               ('Wind','capacity'):      27.6,   ('Wind','eta_el'):      1.0,    ('Wind','fuel price'):      0.0,    ('Wind','other variable costs'):      1.5,    ('Wind','emission factor'):       0.0}"
   ]
  },
  {
   "cell_type": "markdown",
   "metadata": {},
   "source": [
    "## 2. Build the LP model"
   ]
  },
  {
   "cell_type": "code",
   "execution_count": null,
   "metadata": {},
   "outputs": [],
   "source": [
    "model = pyomo.ConcreteModel()"
   ]
  },
  {
   "cell_type": "markdown",
   "metadata": {},
   "source": [
    "### 2.1 Define Sets"
   ]
  },
  {
   "cell_type": "code",
   "execution_count": null,
   "metadata": {},
   "outputs": [],
   "source": [
    "# define sets of the LP model  \n",
    "model.G = pyomo.Set(initialize=G)"
   ]
  },
  {
   "cell_type": "markdown",
   "metadata": {},
   "source": [
    "### 2.2 Define Variables"
   ]
  },
  {
   "cell_type": "code",
   "execution_count": null,
   "metadata": {},
   "outputs": [],
   "source": [
    "# create decision variables\n",
    "model.x_g = pyomo.Var(model.G, domain=pyomo.NonNegativeReals) # electricity output of technology g [TWh]"
   ]
  },
  {
   "cell_type": "markdown",
   "metadata": {},
   "source": [
    "### 2.3 Define Constraints"
   ]
  },
  {
   "cell_type": "code",
   "execution_count": null,
   "metadata": {},
   "outputs": [],
   "source": [
    "# cover demand\n",
    "def define_demand_restriction(model):\n",
    "    return sum(model.x_g[g] for g in model.G) == DEMAND\n",
    "model.demand_restriction = pyomo.Constraint(rule=define_demand_restriction)"
   ]
  },
  {
   "cell_type": "code",
   "execution_count": null,
   "metadata": {},
   "outputs": [],
   "source": [
    "# capacity restriciton\n",
    "def define_capacity_restriciton(model, g):\n",
    "    return model.x_g[g] <= tech_data_g[(g,'capacity')]\n",
    "model.capacity_restriciton = pyomo.Constraint(model.G, rule=define_capacity_restriciton)"
   ]
  },
  {
   "cell_type": "code",
   "execution_count": null,
   "metadata": {},
   "outputs": [],
   "source": [
    "# environmental restriction\n",
    "def define_environmental_restricion(model):\n",
    "    return sum((tech_data_g[(g,'emission factor')]/(1000*tech_data_g[(g,'eta_el')]))*model.x_g[g] for g in model.G) <= MAX_CO2\n",
    "model.environmental_restricion = pyomo.Constraint(rule=define_environmental_restricion)"
   ]
  },
  {
   "cell_type": "markdown",
   "metadata": {},
   "source": [
    "### 2.4 Define Objective Function"
   ]
  },
  {
   "cell_type": "code",
   "execution_count": null,
   "metadata": {},
   "outputs": [],
   "source": [
    "def define_objective_function(model):\n",
    "    return sum((tech_data_g[(g,'fuel price')]/tech_data_g[(g,'eta_el')]+tech_data_g[(g,'other variable costs')])*model.x_g[g] for g in model.G)\n",
    "model.Obj = pyomo.Objective(rule=define_objective_function, sense=pyomo.minimize)"
   ]
  },
  {
   "cell_type": "markdown",
   "metadata": {},
   "source": [
    "### 2.5 Write LP to File"
   ]
  },
  {
   "cell_type": "code",
   "execution_count": null,
   "metadata": {},
   "outputs": [],
   "source": [
    "model.write('output/dispatch/04_esa_uebung_LP1_dispatch_loesung.lp', io_options={'symbolic_solver_labels':True})"
   ]
  },
  {
   "cell_type": "markdown",
   "metadata": {},
   "source": [
    "## 3. Solve the LP model"
   ]
  },
  {
   "cell_type": "code",
   "execution_count": null,
   "metadata": {},
   "outputs": [],
   "source": [
    "optimizer = opt.SolverFactory('glpk')\n",
    "solved_model = optimizer.solve(model, tee=True)"
   ]
  },
  {
   "cell_type": "markdown",
   "metadata": {},
   "source": [
    "## 4. Get the results and statistics of the solved LP model"
   ]
  },
  {
   "cell_type": "markdown",
   "metadata": {},
   "source": [
    "### 4.1 print optimal objective value"
   ]
  },
  {
   "cell_type": "code",
   "execution_count": null,
   "metadata": {},
   "outputs": [],
   "source": [
    "display(\"Optimal value: %.2f Mio. €\" % (round(model.Obj.expr(),2)))"
   ]
  },
  {
   "cell_type": "markdown",
   "metadata": {},
   "source": [
    "### 4.2 print optimal dispatch path"
   ]
  },
  {
   "cell_type": "code",
   "execution_count": null,
   "metadata": {},
   "outputs": [],
   "source": [
    "EPS = 1.e-6    # definition of threshold to avoid numerical issues\n",
    "\n",
    "for g in G:\n",
    "    if pyomo.value(model.x_g[g]) > EPS:\n",
    "        print(\"Dispatch %i TWh of technology %s\" % (pyomo.value(model.x_g[g]),g))"
   ]
  }
 ],
 "metadata": {
  "kernelspec": {
   "display_name": "Python 3 (ipykernel)",
   "language": "python",
   "name": "python3"
  },
  "language_info": {
   "codemirror_mode": {
    "name": "ipython",
    "version": 3
   },
   "file_extension": ".py",
   "mimetype": "text/x-python",
   "name": "python",
   "nbconvert_exporter": "python",
   "pygments_lexer": "ipython3",
   "version": "3.10.2"
  }
 },
 "nbformat": 4,
 "nbformat_minor": 2
}
